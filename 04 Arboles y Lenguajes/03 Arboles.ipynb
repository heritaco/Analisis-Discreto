{
 "cells": [
  {
   "cell_type": "markdown",
   "metadata": {},
   "source": [
    "# **Árboles**"
   ]
  },
  {
   "cell_type": "markdown",
   "metadata": {},
   "source": [
    "**Nombre:** Heriberto Espino Montelongo\n",
    "\n",
    "**Materia:** Análisis Discreto\n",
    "\n",
    "**Clave:** O24-LDS1011-1\n",
    "\n",
    "**Fecha:** 4 de diciembre de 2024"
   ]
  },
  {
   "cell_type": "markdown",
   "metadata": {},
   "source": [
    "‎ "
   ]
  },
  {
   "cell_type": "markdown",
   "metadata": {},
   "source": [
    "Sea $G = (V, E)$ una gráfica no dirigida libre de lazos. Dadas las siguientes afirmaciones:\n",
    "\n",
    "1. $G$ es un árbol.  \n",
    "2. $G$ es conexa y $|V| = |E| + 1$.  \n",
    "3. $G$ no contiene ciclos y si $a, b \\in V$ con $ab \\notin E$, entonces la gráfica obtenida al agregar la arista $ab$ a $G$ tiene precisamente un ciclo.  \n",
    "\n",
    "Demuestre que $(3) \\implies (4)$ y que $(4) \\implies (1)$.\n"
   ]
  },
  {
   "cell_type": "markdown",
   "metadata": {},
   "source": [
    "‎ "
   ]
  },
  {
   "cell_type": "markdown",
   "metadata": {},
   "source": [
    "*Sea $G$ una gráfica no dirigida libre de lazos.*"
   ]
  },
  {
   "cell_type": "markdown",
   "metadata": {},
   "source": [
    "‎ "
   ]
  },
  {
   "cell_type": "markdown",
   "metadata": {},
   "source": [
    "### **Demostración 1**"
   ]
  },
  {
   "cell_type": "markdown",
   "metadata": {},
   "source": [
    "Sea $G = (V, E)$ una gráfica no dirigida libre de lazos\n",
    "\n",
    "   Supongamos que $G$ es un árbol. \n",
    "\n",
    "P.D:  \n",
    "$G$ es conexa.  \n",
    "$|V| = |E| + 1$, es decir, el número de vértices es uno más que el número de aristas."
   ]
  },
  {
   "cell_type": "markdown",
   "metadata": {},
   "source": [
    "Por definición, un árbol debe ser conexo, lo que significa que existe un camino entre cualquier par de vértices de $G$."
   ]
  },
  {
   "cell_type": "markdown",
   "metadata": {},
   "source": [
    "Sabemos que:\n",
    "\n",
    "Si $G$ es un árbol con $|V|$ vértices, entonces:\n",
    "  \n",
    "  $$\n",
    "  |E| = |V| - 1\n",
    "  $$\n",
    "\n",
    "Reescribiendo esta ecuación:\n",
    "\n",
    "$$\n",
    "|V| = |E| + 1\n",
    "$$"
   ]
  },
  {
   "cell_type": "markdown",
   "metadata": {},
   "source": [
    "‎ "
   ]
  },
  {
   "cell_type": "markdown",
   "metadata": {},
   "source": [
    "### **Demostración 2**"
   ]
  },
  {
   "cell_type": "markdown",
   "metadata": {},
   "source": [
    "Sea $G = (V, E)$ una gráfica no dirigida libre de lazos, y supongamos que:\n",
    "\n",
    "$G$ es conexa.  \n",
    "$|V| = |E| + 1$.\n",
    "\n",
    "P.d:  \n",
    "$G$ no contiene ciclos.  "
   ]
  },
  {
   "cell_type": "markdown",
   "metadata": {},
   "source": [
    "Sabemos que $G$ es conexa y que el número de aristas es $|E| = |V| - 1$. Esto implica que $G$ es un árbol, ya que un árbol con $n$ vértices tiene $n - 1$ aristas y no contiene ciclos. Por lo tanto, $G$ no contiene ciclos."
   ]
  },
  {
   "cell_type": "markdown",
   "metadata": {},
   "source": [
    "P.d:  \n",
    "Si $a, b \\in V$ y $(a, b) \\notin E$, entonces la gráfica obtenida al agregar la arista $(a, b)$ a $G$ tiene precisamente un ciclo."
   ]
  },
  {
   "cell_type": "markdown",
   "metadata": {},
   "source": [
    "Dado que $G$ es conexa, existe un camino entre cualquier par de vértices. Al agregar la arista $(a, b)$ a $G$, se crea un ciclo entre el vértice $a$ y el vértice $b$ a través del camino existente en $G$. Este ciclo tiene exactamente una arista adicional, la que conecta $a$ y $b$."
   ]
  },
  {
   "cell_type": "markdown",
   "metadata": {},
   "source": [
    "‎ "
   ]
  },
  {
   "cell_type": "markdown",
   "metadata": {},
   "source": [
    "### **Demostración 3**"
   ]
  },
  {
   "cell_type": "markdown",
   "metadata": {},
   "source": [
    "Supongamos que $G = (V, E)$ es una gráfica no dirigida que cumple con las siguientes condiciones:\n",
    "\n",
    "$G$ no contiene ciclos.  \n",
    "Si $a, b \\in V$ y $(a, b) \\notin E$, entonces la gráfica obtenida al agregar la arista $(a, b)$ a $G$ tiene precisamente un ciclo.\n",
    "\n",
    "P.d: $G$ es un árbol.\n"
   ]
  },
  {
   "cell_type": "markdown",
   "metadata": {},
   "source": [
    "Por la segunda condición, si agregamos cualquier arista $(a, b)$ entre dos vértices $a$ y $b$ que no están conectados por una arista en $G$, se forma un ciclo. Esto implica que $G$ es conexa, ya que, para cualquier par de vértices $a$ y $b$, debe existir un camino entre ellos en $G$, de lo contrario, la nueva arista no podría formar un ciclo. \n"
   ]
  },
  {
   "cell_type": "markdown",
   "metadata": {},
   "source": [
    "Supongamos que $G$ tiene $|V|$ vértices y $|E|$ aristas. Si $G$ no contiene ciclos y es conexa, entonces debe ser un árbol. "
   ]
  }
 ],
 "metadata": {
  "language_info": {
   "name": "python"
  }
 },
 "nbformat": 4,
 "nbformat_minor": 2
}
