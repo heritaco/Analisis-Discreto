{
 "cells": [
  {
   "cell_type": "markdown",
   "metadata": {},
   "source": [
    "# **Árboles**"
   ]
  },
  {
   "cell_type": "markdown",
   "metadata": {},
   "source": [
    "**Nombre:** Heriberto Espino Montelongo\n",
    "\n",
    "**Materia:** Análisis Discreto\n",
    "\n",
    "**Clave:** O24-LDS1011-1\n",
    "\n",
    "**Fecha:** 4 de diciembre de 2024"
   ]
  },
  {
   "cell_type": "markdown",
   "metadata": {},
   "source": [
    "‎ "
   ]
  },
  {
   "cell_type": "markdown",
   "metadata": {},
   "source": [
    "Sea $G = (V, E)$ una gráfica no dirigida libre de lazos. Dadas las siguientes afirmaciones:\n",
    "\n",
    "1. $G$ es un árbol.  \n",
    "2. $G$ es conexa y $|V| = |E| + 1$.  \n",
    "3. $G$ no contiene ciclos y si $a, b \\in V$ con $ab \\notin E$, entonces la gráfica obtenida al agregar la arista $ab$ a $G$ tiene precisamente un ciclo.  \n",
    "\n",
    "Demuestre que $(3) \\implies (2)$ y que $(2) \\implies (1)$.\n"
   ]
  },
  {
   "cell_type": "markdown",
   "metadata": {},
   "source": [
    "‎ "
   ]
  },
  {
   "cell_type": "markdown",
   "metadata": {},
   "source": [
    "*Sea $G$ una gráfica no dirigida libre de lazos.*"
   ]
  },
  {
   "cell_type": "markdown",
   "metadata": {},
   "source": [
    "‎ "
   ]
  },
  {
   "cell_type": "markdown",
   "metadata": {},
   "source": [
    "### **Si $G$ no contiene ciclos y se agrega una arista $ab$ con $ab \\notin E$, entonces la gráfica obtenida tiene exactamente un ciclo.**"
   ]
  },
  {
   "cell_type": "markdown",
   "metadata": {},
   "source": [
    "Suponemos que $G$ no contiene ciclos y que $ab \\notin E$.\n",
    "\n",
    "Agreguemos la arista $ab$ a $G$. Sea $G' = (V, E \\cup \\{ab\\})$.\n"
   ]
  },
  {
   "cell_type": "markdown",
   "metadata": {},
   "source": [
    "Si suponemos que $G$ es conexa, hay un camino entre los vértices $a$ y $b$ en $G$. Como ya estaban conectados por un camino en $G$, entonces al agregar la arista $ab$, se crea un ciclo."
   ]
  },
  {
   "cell_type": "markdown",
   "metadata": {},
   "source": [
    "Por otro lado, si $a$ y $b$ no están conectados en $G$, agregar la arista $ab$ no crea un ciclo porque no hay otro camino que conecte $a$ con $b$. Esto sería una contradicción con la suposición de que $G'$ contiene un ciclo tras agregar $ab$."
   ]
  },
  {
   "cell_type": "markdown",
   "metadata": {},
   "source": [
    "Entonces $G$ es conexa."
   ]
  },
  {
   "cell_type": "markdown",
   "metadata": {},
   "source": [
    " ‎ "
   ]
  },
  {
   "cell_type": "markdown",
   "metadata": {},
   "source": [
    "$G$ no contiene ciclos y supongamos que $G$ no es conexa. \n",
    "\n",
    "Si $G$ no es conexa, sean $a$ y $b$ están vertices separados antes de agregar $ab$. Al agregar $ab$, no se formaría un ciclo, ya que $a$ y $b$ no tenian un camino en $G$ **!**\n",
    "\n",
    "Entonces, como agregar $ab$ produce exactamente un ciclo, $G$ debe ser conexa."
   ]
  },
  {
   "cell_type": "markdown",
   "metadata": {},
   "source": [
    " ‎ "
   ]
  },
  {
   "cell_type": "markdown",
   "metadata": {},
   "source": [
    "Como $G$ no contiene ciclos y es conexa, cada arista debe conectar a dos componentes del grafo inicial hasta formar un grafo conexo.\n",
    "\n",
    "Sea $|V| = n$ y $|E| = e$. Cada vez que agregamos una arista, sin formar un ciclo, reducimos el número de componentes del grafo en 1.\n",
    "\n",
    "Al final, cuando $G$ es conexa, y no tiene ciclos, el número total de componentes es 1 y los vertices estan conectados por\n",
    "$e = n - 1$"
   ]
  },
  {
   "cell_type": "markdown",
   "metadata": {},
   "source": [
    "porque inicialmente $G$ tiene $n$ vértices, $n$ componentes. \n",
    "\n",
    "Cada vez que se agrega una arista, $e$, el número de componentes disminuye 1.\n",
    "\n",
    "Para que $G$ sea conexa al final, que tenga exactamente 1 componente conexa, se necesitan exactamente $n - 1$ aristas, ya que:\n",
    "   $$\n",
    "   n - e = 1 \\implies e = n - 1.\n",
    "   $$\n"
   ]
  },
  {
   "cell_type": "markdown",
   "metadata": {},
   "source": [
    " ‎ "
   ]
  },
  {
   "cell_type": "markdown",
   "metadata": {},
   "source": [
    " ‎ "
   ]
  },
  {
   "cell_type": "markdown",
   "metadata": {},
   "source": [
    "### **Si $G$ es conexa y $|V| = |E| + 1$, entonces $G$ es un árbol**"
   ]
  },
  {
   "cell_type": "markdown",
   "metadata": {},
   "source": [
    "$G = (V, E)$ es un árbol si:\n",
    "1. $G$ es conexa.\n",
    "2. $G$ no contiene ciclos.\n"
   ]
  },
  {
   "cell_type": "markdown",
   "metadata": {},
   "source": [
    " ‎ "
   ]
  },
  {
   "cell_type": "markdown",
   "metadata": {},
   "source": [
    "\n",
    "Ya sabemos que $G$ es conexa."
   ]
  },
  {
   "cell_type": "markdown",
   "metadata": {},
   "source": [
    " ‎ "
   ]
  },
  {
   "cell_type": "markdown",
   "metadata": {},
   "source": [
    "*Supongamso que no*"
   ]
  },
  {
   "cell_type": "markdown",
   "metadata": {},
   "source": [
    "Sea $G$ es conexa, $|V| = n$, $|E| = e$, y supongamos que $G$ contiene un ciclo.\n"
   ]
  },
  {
   "cell_type": "markdown",
   "metadata": {},
   "source": [
    "Si $G$ contiene un ciclo, podemos eliminar una arista de ese ciclo sin desconectar $G$. "
   ]
  },
  {
   "cell_type": "markdown",
   "metadata": {},
   "source": [
    "Después de eliminar una arista del ciclo, el número de vértices se queda igual, pero el número de aristas disminuye a $e - 1$."
   ]
  },
  {
   "cell_type": "markdown",
   "metadata": {},
   "source": [
    "Obtenemos un grafo sin ciclos, que sigue siendo conexo. Pero\n",
    "\n",
    "$$\n",
    "|V| = |E| + 1 \\\\\n",
    "|V| = (e-1) + 1 \\\\\n",
    "|V| = |E|\n",
    "$$"
   ]
  }
 ],
 "metadata": {
  "language_info": {
   "name": "python"
  }
 },
 "nbformat": 4,
 "nbformat_minor": 2
}
