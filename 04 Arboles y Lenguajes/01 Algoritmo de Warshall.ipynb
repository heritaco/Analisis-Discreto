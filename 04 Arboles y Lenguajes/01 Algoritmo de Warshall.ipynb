{
 "cells": [
  {
   "cell_type": "markdown",
   "metadata": {},
   "source": [
    "# Algoritmo de Warshall"
   ]
  },
  {
   "cell_type": "markdown",
   "metadata": {},
   "source": [
    "\n",
    "**Nombre:** Heriberto Espino Montelongo\n",
    "\n",
    "**Materia:** Análisis Discreto\n",
    "\n",
    "**Clave:** O24-LDS1011-1\n",
    "\n",
    "**Fecha:** 4 de diciembre de 2024"
   ]
  },
  {
   "cell_type": "markdown",
   "metadata": {},
   "source": [
    "#### Contenido de la actividad"
   ]
  },
  {
   "cell_type": "markdown",
   "metadata": {},
   "source": [
    "Realice el código para implementar el Algoritmo Marshall (usando el seudocódigo visto en clase). Puede probar el código con la gráfica obtenida en la actividad \"Gráfica asociada a datos\"."
   ]
  },
  {
   "cell_type": "markdown",
   "metadata": {},
   "source": [
    "```pascal\n",
    "procedure Warshall {V ∈ {v1, v2, ..., vn}, R ∈ E ⊆ V × V}\n",
    "begin\n",
    "    M := adjMatrix(R)  {La matriz (booleana) de adyacencias de R}\n",
    "    C := M             {Copia M a C}\n",
    "    CP := C            {Se copia C a CP}\n",
    "    \n",
    "    iteracion := 1\n",
    "    cambio := true     {Registra si hubo cambio}\n",
    "\n",
    "    while iteracion ≤ n and cambio = true do\n",
    "        cambio := false\n",
    "        for i := 1 to n do\n",
    "            for j := 1 to n do\n",
    "                for k := 1 to n do\n",
    "                    CP[i][j] := CP[i][j] or (C[i][k] and M[k][j])\n",
    "                    cambio := cambio or (C[i][j] ≠ CP[i][j])\n",
    "        C := CP\n",
    "        iteracion := iteracion + 1\n",
    "end\n"
   ]
  },
  {
   "cell_type": "code",
   "execution_count": 1,
   "metadata": {},
   "outputs": [],
   "source": [
    "import numpy as np"
   ]
  },
  {
   "cell_type": "code",
   "execution_count": 2,
   "metadata": {},
   "outputs": [],
   "source": [
    "def warshall(V, R):\n",
    "    # Number of vertices\n",
    "    n = len(V)\n",
    "    \n",
    "    # Initialize adjacency matrix M\n",
    "    M = np.zeros((n, n), dtype=bool)\n",
    "    for (i, j) in R:\n",
    "        M[i-1][j-1] = True\n",
    "    \n",
    "    # Copy M to C\n",
    "    C = M.copy()\n",
    "    CP = C.copy()\n",
    "    \n",
    "    iteracion = 1\n",
    "    cambio = True\n",
    "    \n",
    "    while iteracion <= n and cambio:\n",
    "        cambio = False\n",
    "        for i in range(n):\n",
    "            for j in range(n):\n",
    "                for k in range(n):\n",
    "                    CP[i][j] = CP[i][j] or (C[i][k] and M[k][j])\n",
    "                    cambio = cambio or (C[i][j] != CP[i][j])\n",
    "        C = CP.copy()\n",
    "        iteracion += 1\n",
    "\n",
    "    C = C.astype(int)\n",
    "\n",
    "    return C"
   ]
  },
  {
   "cell_type": "code",
   "execution_count": 5,
   "metadata": {},
   "outputs": [
    {
     "name": "stdout",
     "output_type": "stream",
     "text": [
      "[[0 1 1 1 1 1 1 1]\n",
      " [0 1 1 1 1 1 1 1]\n",
      " [0 0 0 0 0 0 0 0]\n",
      " [0 1 1 1 1 1 1 1]\n",
      " [0 1 1 1 1 1 1 1]\n",
      " [0 1 1 1 1 1 1 1]\n",
      " [0 1 1 1 1 1 1 1]\n",
      " [0 1 1 1 1 1 1 1]]\n"
     ]
    }
   ],
   "source": [
    "V = [1, 2, 3, 4, 5, 6, 7, 8]\n",
    "R = [(1, 2), (1, 3), (2, 4), (4, 2), (4, 3), (4, 5), (4, 6), (5, 3), (5, 4), (5, 7), (6, 4), (6, 7), (6, 8), (7, 5), (7, 6), (7, 8), (8, 6), (8, 7)]\n",
    "transitive_closure = warshall(V, R)\n",
    "print(transitive_closure)\n"
   ]
  }
 ],
 "metadata": {
  "kernelspec": {
   "display_name": "Python 3",
   "language": "python",
   "name": "python3"
  },
  "language_info": {
   "codemirror_mode": {
    "name": "ipython",
    "version": 3
   },
   "file_extension": ".py",
   "mimetype": "text/x-python",
   "name": "python",
   "nbconvert_exporter": "python",
   "pygments_lexer": "ipython3",
   "version": "3.12.1"
  }
 },
 "nbformat": 4,
 "nbformat_minor": 2
}
