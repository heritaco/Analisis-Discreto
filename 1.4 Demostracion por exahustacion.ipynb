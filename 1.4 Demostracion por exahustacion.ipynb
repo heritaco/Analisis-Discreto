{
 "cells": [
  {
   "cell_type": "markdown",
   "metadata": {},
   "source": [
    "# Demostración por exahustación\n",
    "\n",
    "**Nombre:** Heriberto Espino Montelongo\n",
    "\n",
    "**Materia:** Análisis Discreto\n",
    "\n",
    "**Clave:** O24-LDS1011-1\n",
    "\n",
    "**Fecha:** 6 de septiembre de 2024"
   ]
  },
  {
   "cell_type": "markdown",
   "metadata": {},
   "source": [
    "Diseña un algoritmo para comprobar la veracidad o falsedad de la siguiente afirmación para el universo del discurso que comprende los primeros 100 números pares:\n",
    "\n",
    "Para todo $n$, podemos escribir a $n$ como la suma de a lo más tres cuadrados perfectos.\n",
    "\n",
    "Explica y justifica tu algoritmo. El problema vale 0.4 extra para el primer parcial, el cual se aplicará una vez que se haya explicado el procedimiento en una exposición a más tardar 5 días hábiles después de la fecha de vencimiento."
   ]
  },
  {
   "cell_type": "code",
   "execution_count": 1,
   "metadata": {},
   "outputs": [
    {
     "name": "stdout",
     "output_type": "stream",
     "text": [
      "0  =  0 ^2 +  0 ^2 +  0 ^2\n",
      "1  =  0 ^2 +  0 ^2 +  1 ^2\n",
      "2  =  0 ^2 +  1 ^2 +  1 ^2\n",
      "3  =  1 ^2 +  1 ^2 +  1 ^2\n",
      "4  =  2 ^2 +  0 ^2 +  0 ^2\n",
      "5  =  2 ^2 +  0 ^2 +  1 ^2\n",
      "6  =  2 ^2 +  1 ^2 +  1 ^2\n"
     ]
    },
    {
     "ename": "KeyboardInterrupt",
     "evalue": "",
     "output_type": "error",
     "traceback": [
      "\u001b[1;31m---------------------------------------------------------------------------\u001b[0m",
      "\u001b[1;31mKeyboardInterrupt\u001b[0m                         Traceback (most recent call last)",
      "Cell \u001b[1;32mIn[1], line 11\u001b[0m\n\u001b[0;32m      9\u001b[0m \u001b[38;5;28;01mfor\u001b[39;00m b \u001b[38;5;129;01min\u001b[39;00m \u001b[38;5;28mrange\u001b[39m(\u001b[38;5;241m0\u001b[39m, fin):\n\u001b[0;32m     10\u001b[0m     \u001b[38;5;28;01mfor\u001b[39;00m c \u001b[38;5;129;01min\u001b[39;00m \u001b[38;5;28mrange\u001b[39m(\u001b[38;5;241m0\u001b[39m, fin):\n\u001b[1;32m---> 11\u001b[0m         \u001b[38;5;28;01mif\u001b[39;00m a\u001b[38;5;241m*\u001b[39ma \u001b[38;5;241m+\u001b[39m b\u001b[38;5;241m*\u001b[39mb \u001b[38;5;241m+\u001b[39m c\u001b[38;5;241m*\u001b[39mc \u001b[38;5;241m==\u001b[39m resultado:\n\u001b[0;32m     12\u001b[0m             \u001b[38;5;28mprint\u001b[39m(resultado, \u001b[38;5;124m\"\u001b[39m\u001b[38;5;124m = \u001b[39m\u001b[38;5;124m\"\u001b[39m, a, \u001b[38;5;124m\"\u001b[39m\u001b[38;5;124m^2 + \u001b[39m\u001b[38;5;124m\"\u001b[39m, b, \u001b[38;5;124m\"\u001b[39m\u001b[38;5;124m^2 + \u001b[39m\u001b[38;5;124m\"\u001b[39m, c, \u001b[38;5;124m\"\u001b[39m\u001b[38;5;124m^2\u001b[39m\u001b[38;5;124m\"\u001b[39m)\n\u001b[0;32m     13\u001b[0m             resultado \u001b[38;5;241m+\u001b[39m\u001b[38;5;241m=\u001b[39m \u001b[38;5;241m1\u001b[39m\n",
      "\u001b[1;31mKeyboardInterrupt\u001b[0m: "
     ]
    }
   ],
   "source": [
    "inicio = 0\n",
    "fin = 200\n",
    "\n",
    "contador = inicio\n",
    "resultado = 0\n",
    "\n",
    "while contador < fin:\n",
    "    for a in range(0, fin):\n",
    "        for b in range(0, fin):\n",
    "            for c in range(0, fin):\n",
    "                if a*a + b*b + c*c == resultado:\n",
    "                    print(resultado, \" = \", a, \"^2 + \", b, \"^2 + \", c, \"^2\")\n",
    "                    resultado += 2\n",
    "                    contador += 2"
   ]
  },
  {
   "cell_type": "markdown",
   "metadata": {},
   "source": [
    "???"
   ]
  },
  {
   "cell_type": "code",
   "execution_count": 4,
   "metadata": {},
   "outputs": [
    {
     "name": "stdout",
     "output_type": "stream",
     "text": [
      "0  =  0 ^2 +  0 ^2 +  0 ^2\n",
      "2  =  0 ^2 +  1 ^2 +  1 ^2\n",
      "4  =  0 ^2 +  0 ^2 +  2 ^2\n",
      "6  =  1 ^2 +  1 ^2 +  2 ^2\n",
      "8  =  0 ^2 +  2 ^2 +  2 ^2\n",
      "10  =  0 ^2 +  1 ^2 +  3 ^2\n",
      "12  =  2 ^2 +  2 ^2 +  2 ^2\n",
      "14  =  1 ^2 +  2 ^2 +  3 ^2\n",
      "16  =  0 ^2 +  0 ^2 +  4 ^2\n",
      "18  =  0 ^2 +  3 ^2 +  3 ^2\n",
      "20  =  0 ^2 +  2 ^2 +  4 ^2\n",
      "22  =  2 ^2 +  3 ^2 +  3 ^2\n",
      "24  =  2 ^2 +  2 ^2 +  4 ^2\n",
      "26  =  0 ^2 +  1 ^2 +  5 ^2\n",
      "no se encontró solución para  28\n",
      "30  =  1 ^2 +  2 ^2 +  5 ^2\n",
      "32  =  0 ^2 +  4 ^2 +  4 ^2\n",
      "34  =  0 ^2 +  3 ^2 +  5 ^2\n",
      "36  =  0 ^2 +  0 ^2 +  6 ^2\n",
      "38  =  1 ^2 +  1 ^2 +  6 ^2\n",
      "40  =  0 ^2 +  2 ^2 +  6 ^2\n",
      "42  =  1 ^2 +  4 ^2 +  5 ^2\n",
      "44  =  2 ^2 +  2 ^2 +  6 ^2\n",
      "46  =  1 ^2 +  3 ^2 +  6 ^2\n",
      "48  =  4 ^2 +  4 ^2 +  4 ^2\n",
      "50  =  0 ^2 +  1 ^2 +  7 ^2\n",
      "52  =  0 ^2 +  4 ^2 +  6 ^2\n",
      "54  =  1 ^2 +  2 ^2 +  7 ^2\n",
      "56  =  2 ^2 +  4 ^2 +  6 ^2\n",
      "58  =  0 ^2 +  3 ^2 +  7 ^2\n",
      "no se encontró solución para  60\n",
      "62  =  1 ^2 +  5 ^2 +  6 ^2\n",
      "64  =  0 ^2 +  0 ^2 +  8 ^2\n",
      "66  =  1 ^2 +  1 ^2 +  8 ^2\n",
      "68  =  0 ^2 +  2 ^2 +  8 ^2\n",
      "70  =  3 ^2 +  5 ^2 +  6 ^2\n",
      "72  =  0 ^2 +  6 ^2 +  6 ^2\n",
      "74  =  0 ^2 +  5 ^2 +  7 ^2\n",
      "76  =  2 ^2 +  6 ^2 +  6 ^2\n",
      "78  =  2 ^2 +  5 ^2 +  7 ^2\n",
      "80  =  0 ^2 +  4 ^2 +  8 ^2\n",
      "82  =  0 ^2 +  1 ^2 +  9 ^2\n",
      "84  =  2 ^2 +  4 ^2 +  8 ^2\n",
      "86  =  1 ^2 +  2 ^2 +  9 ^2\n",
      "88  =  4 ^2 +  6 ^2 +  6 ^2\n",
      "90  =  0 ^2 +  3 ^2 +  9 ^2\n",
      "no se encontró solución para  92\n",
      "94  =  2 ^2 +  3 ^2 +  9 ^2\n",
      "96  =  4 ^2 +  4 ^2 +  8 ^2\n",
      "98  =  0 ^2 +  7 ^2 +  7 ^2\n",
      "100  =  0 ^2 +  0 ^2 +  10 ^2\n",
      "102  =  1 ^2 +  1 ^2 +  10 ^2\n",
      "104  =  0 ^2 +  2 ^2 +  10 ^2\n",
      "106  =  0 ^2 +  5 ^2 +  9 ^2\n",
      "108  =  2 ^2 +  2 ^2 +  10 ^2\n",
      "110  =  1 ^2 +  3 ^2 +  10 ^2\n",
      "no se encontró solución para  112\n",
      "114  =  1 ^2 +  7 ^2 +  8 ^2\n",
      "116  =  0 ^2 +  4 ^2 +  10 ^2\n",
      "118  =  1 ^2 +  6 ^2 +  9 ^2\n",
      "120  =  2 ^2 +  4 ^2 +  10 ^2\n",
      "122  =  0 ^2 +  1 ^2 +  11 ^2\n",
      "no se encontró solución para  124\n",
      "126  =  1 ^2 +  2 ^2 +  11 ^2\n",
      "128  =  0 ^2 +  8 ^2 +  8 ^2\n",
      "130  =  0 ^2 +  3 ^2 +  11 ^2\n",
      "132  =  2 ^2 +  8 ^2 +  8 ^2\n",
      "134  =  2 ^2 +  3 ^2 +  11 ^2\n",
      "136  =  0 ^2 +  6 ^2 +  10 ^2\n",
      "138  =  1 ^2 +  4 ^2 +  11 ^2\n",
      "140  =  2 ^2 +  6 ^2 +  10 ^2\n",
      "142  =  5 ^2 +  6 ^2 +  9 ^2\n",
      "144  =  0 ^2 +  0 ^2 +  12 ^2\n",
      "146  =  0 ^2 +  5 ^2 +  11 ^2\n",
      "148  =  0 ^2 +  2 ^2 +  12 ^2\n",
      "150  =  1 ^2 +  7 ^2 +  10 ^2\n",
      "152  =  2 ^2 +  2 ^2 +  12 ^2\n",
      "154  =  1 ^2 +  3 ^2 +  12 ^2\n",
      "no se encontró solución para  156\n",
      "158  =  1 ^2 +  6 ^2 +  11 ^2\n",
      "160  =  0 ^2 +  4 ^2 +  12 ^2\n",
      "162  =  0 ^2 +  9 ^2 +  9 ^2\n",
      "164  =  0 ^2 +  8 ^2 +  10 ^2\n",
      "166  =  2 ^2 +  9 ^2 +  9 ^2\n",
      "168  =  2 ^2 +  8 ^2 +  10 ^2\n",
      "170  =  0 ^2 +  1 ^2 +  13 ^2\n",
      "172  =  6 ^2 +  6 ^2 +  10 ^2\n",
      "174  =  1 ^2 +  2 ^2 +  13 ^2\n",
      "176  =  4 ^2 +  4 ^2 +  12 ^2\n",
      "178  =  0 ^2 +  3 ^2 +  13 ^2\n",
      "180  =  0 ^2 +  6 ^2 +  12 ^2\n",
      "182  =  1 ^2 +  9 ^2 +  10 ^2\n",
      "184  =  2 ^2 +  6 ^2 +  12 ^2\n",
      "186  =  1 ^2 +  4 ^2 +  13 ^2\n",
      "no se encontró solución para  188\n",
      "190  =  3 ^2 +  9 ^2 +  10 ^2\n",
      "192  =  8 ^2 +  8 ^2 +  8 ^2\n",
      "194  =  0 ^2 +  5 ^2 +  13 ^2\n",
      "196  =  4 ^2 +  6 ^2 +  12 ^2\n",
      "198  =  2 ^2 +  5 ^2 +  13 ^2\n",
      "200  =  0 ^2 +  10 ^2 +  10 ^2\n"
     ]
    }
   ],
   "source": [
    "import numpy as np\n",
    "\n",
    "inicio = 0\n",
    "fin = 200\n",
    "\n",
    "resultado = inicio\n",
    "\n",
    "lista = []\n",
    "\n",
    "while resultado < fin + 2:\n",
    "    found = False\n",
    "    for a in range(0, int(np.sqrt(fin))):\n",
    "        for b in range(0, int(np.sqrt(fin))):\n",
    "            for c in range(0, int(np.sqrt(fin))):\n",
    "                if a*a + b*b + c*c == resultado:\n",
    "                    print(resultado, \" = \", a, \"^2 + \", b, \"^2 + \", c, \"^2\")\n",
    "                    resultado += 2\n",
    "                    found = True\n",
    "                    break # break c\n",
    "            if found: # break b\n",
    "                break\n",
    "        if found: # break a\n",
    "            break\n",
    "    if not found: # no se encontró solución\n",
    "        print(\"no se encontró solución para \", resultado)\n",
    "        lista.append(resultado)\n",
    "        resultado += 2"
   ]
  },
  {
   "cell_type": "markdown",
   "metadata": {},
   "source": [
    "¿Es verdad?"
   ]
  },
  {
   "cell_type": "code",
   "execution_count": 5,
   "metadata": {},
   "outputs": [
    {
     "name": "stdout",
     "output_type": "stream",
     "text": [
      "Es falso, los números que no son suma de 3 cuadrados perfectos son [28, 60, 92, 112, 124, 156, 188]\n"
     ]
    }
   ],
   "source": [
    "if len(lista) == 0:\n",
    "    print(\"Todos los números entre\", inicio, \"a\", fin,\"son suma de 3 cuadrados perfectos.\")\n",
    "else:\n",
    "    print(\"Es falso, los números que no son suma de 3 cuadrados perfectos son\", lista)"
   ]
  }
 ],
 "metadata": {
  "kernelspec": {
   "display_name": "Python 3",
   "language": "python",
   "name": "python3"
  },
  "language_info": {
   "codemirror_mode": {
    "name": "ipython",
    "version": 3
   },
   "file_extension": ".py",
   "mimetype": "text/x-python",
   "name": "python",
   "nbconvert_exporter": "python",
   "pygments_lexer": "ipython3",
   "version": "3.12.1"
  }
 },
 "nbformat": 4,
 "nbformat_minor": 2
}
