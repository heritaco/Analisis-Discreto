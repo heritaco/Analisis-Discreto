{
 "cells": [
  {
   "cell_type": "markdown",
   "metadata": {},
   "source": [
    "# Tautologías\n",
    "\n",
    "**Nombre:** Heriberto Espino Montelongo\n",
    "\n",
    "**Materia:** Análisis Discreto\n",
    "\n",
    "**Clave:** O24-LDS1011-1\n",
    "\n",
    "**Fecha:** 02 de septiembre de 2024"
   ]
  },
  {
   "cell_type": "markdown",
   "metadata": {},
   "source": [
    "Seleccione uno de los siguientes enunciados compuestos y elabore un programa eficiente para determinar si el enunciado es una tautología.\n",
    "\n",
    "![alt text](1.5%20French%20Burbons.jpg \"Title\")\n",
    "\n",
    "Explica y justifica tu algoritmo. El problema vale 0.3 extra para el primer parcial, el cual se aplicará una vez que se haya explicado el procedimiento en una exposición a más tardar 5 días hábiles después de la fecha de vencimiento. "
   ]
  },
  {
   "cell_type": "code",
   "execution_count": 1,
   "metadata": {},
   "outputs": [],
   "source": [
    "def no(x):\n",
    "    return not x\n",
    "\n",
    "def y(x, y):\n",
    "    return x and y\n",
    "\n",
    "def o(x, y):\n",
    "    return x or y\n",
    "\n",
    "def implica(x, y):\n",
    "    return not x or y\n",
    "    # Es una equivalencia lógica, (¬x ∨ y)\n"
   ]
  },
  {
   "cell_type": "code",
   "execution_count": 2,
   "metadata": {},
   "outputs": [],
   "source": [
    "def evaluar(p, q, r):\n",
    "\n",
    "    # [(nop o q) y (q implica r)] implica (nor implica nop)\n",
    "\n",
    "    enunciado = implica(    y(o(no(p), q), \n",
    "                              implica(q, r)),\n",
    "\n",
    "                        implica(no(r), no(p)))\n",
    "\n",
    "    return enunciado"
   ]
  },
  {
   "cell_type": "code",
   "execution_count": 3,
   "metadata": {},
   "outputs": [],
   "source": [
    "def tau():\n",
    "    # Probar todas las combinaciones posibles de valores de verdad para p, q y r\n",
    "    for p in [False, True]:\n",
    "        for q in [False, True]:\n",
    "            for r in [False, True]:\n",
    "                # Si el enunciado no es verdadero, entonces falso\n",
    "                if not evaluar(p, q, r):\n",
    "                    return False\n",
    "    return True"
   ]
  },
  {
   "cell_type": "code",
   "execution_count": 4,
   "metadata": {},
   "outputs": [
    {
     "name": "stdout",
     "output_type": "stream",
     "text": [
      "Es una tautología.\n"
     ]
    }
   ],
   "source": [
    "# Comprobar si el enunciado es una tautología\n",
    "if tau():\n",
    "    print(\"Es una tautología.\")\n",
    "else:\n",
    "    print(\"No es una tautología.\")"
   ]
  }
 ],
 "metadata": {
  "kernelspec": {
   "display_name": "Python 3",
   "language": "python",
   "name": "python3"
  },
  "language_info": {
   "codemirror_mode": {
    "name": "ipython",
    "version": 3
   },
   "file_extension": ".py",
   "mimetype": "text/x-python",
   "name": "python",
   "nbconvert_exporter": "python",
   "pygments_lexer": "ipython3",
   "version": "3.12.1"
  }
 },
 "nbformat": 4,
 "nbformat_minor": 2
}
