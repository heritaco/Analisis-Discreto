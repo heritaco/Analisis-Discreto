{
 "cells": [
  {
   "cell_type": "code",
   "execution_count": 1,
   "metadata": {},
   "outputs": [],
   "source": [
    "primos = [2, 3, 5, 7, 11, 13, 17, 19, 23, 29, 31, 37]"
   ]
  },
  {
   "cell_type": "code",
   "execution_count": 13,
   "metadata": {},
   "outputs": [
    {
     "name": "stdout",
     "output_type": "stream",
     "text": [
      "4 = 2 + 2\n",
      "6 = 3 + 3\n",
      "8 = 3 + 5\n",
      "10 = 3 + 7\n",
      "12 = 5 + 7\n",
      "14 = 3 + 11\n",
      "16 = 3 + 13\n",
      "18 = 5 + 13\n",
      "20 = 3 + 17\n",
      "22 = 3 + 19\n",
      "24 = 5 + 19\n",
      "26 = 3 + 23\n",
      "28 = 5 + 23\n",
      "30 = 7 + 23\n",
      "32 = 3 + 29\n",
      "34 = 3 + 31\n",
      "36 = 5 + 31\n",
      "38 = 7 + 31\n"
     ]
    }
   ],
   "source": [
    "for i in range(4, 38+1, 2):\n",
    "    found = False\n",
    "    for p1 in primos:\n",
    "        for p2 in primos:\n",
    "            if p1 + p2 == i:\n",
    "                print(f\"{i} = {p1} + {p2}\")\n",
    "                found = True\n",
    "                break\n",
    "        if found:\n",
    "            break\n",
    "    if not found:\n",
    "        print(f\"{i} no se puede expresar como la suma de dos números primos\")\n"
   ]
  },
  {
   "cell_type": "code",
   "execution_count": 2,
   "metadata": {},
   "outputs": [],
   "source": [
    "def es_primo(n):\n",
    "    if n <= 1:\n",
    "        return False\n",
    "    for i in range(2, int(n**0.5) + 1):\n",
    "        if n % i == 0:\n",
    "            return False\n",
    "    return True\n",
    "\n",
    "primos = [x for x in range(1, 41) if es_primo(x)]"
   ]
  },
  {
   "cell_type": "code",
   "execution_count": 4,
   "metadata": {},
   "outputs": [
    {
     "data": {
      "text/plain": [
       "True"
      ]
     },
     "execution_count": 4,
     "metadata": {},
     "output_type": "execute_result"
    }
   ],
   "source": [
    "es_primo(23)"
   ]
  }
 ],
 "metadata": {
  "kernelspec": {
   "display_name": "Python 3",
   "language": "python",
   "name": "python3"
  },
  "language_info": {
   "codemirror_mode": {
    "name": "ipython",
    "version": 3
   },
   "file_extension": ".py",
   "mimetype": "text/x-python",
   "name": "python",
   "nbconvert_exporter": "python",
   "pygments_lexer": "ipython3",
   "version": "3.12.1"
  }
 },
 "nbformat": 4,
 "nbformat_minor": 2
}
