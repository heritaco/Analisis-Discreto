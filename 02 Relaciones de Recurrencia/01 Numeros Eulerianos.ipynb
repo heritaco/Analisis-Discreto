{
 "cells": [
  {
   "cell_type": "markdown",
   "metadata": {},
   "source": [
    "# Números Eulerianos\n",
    "\n",
    "**Nombre:** Heriberto Espino Montelongo\n",
    "\n",
    "**Materia:** Análisis Discreto\n",
    "\n",
    "**Clave:** O24-LDS1011-1\n",
    "\n",
    "**Fecha:** 6 de septiembre de 2024\n",
    "\n",
    "Para cada $m, k \\in \\mathbb{Z}^+$, definimos los números Eulerianos como sigue:\n",
    "\n",
    "$$\n",
    "a_{m,k} = (m - k) a_{m-1,k-1} + (k + 1) a_{m-1,k} \\quad \\text{si} \\quad 0 \\leq k \\leq m-1\n",
    "$$\n",
    "$$\n",
    "a_{0,0} = 1, \\quad a_{m,k} = 0 \\quad (k \\geq m), \\quad a_{m,k} = 0 \\quad (k < 0)\n",
    "$$\n",
    "\n",
    "Diseñe un algoritmo para obtener los números Eulerianos y conjeturar cuál es la suma de los números Eulerianos del $m$-ésimo renglón. Demuestre su conjetura por inducción matemática.\n"
   ]
  },
  {
   "cell_type": "code",
   "execution_count": 34,
   "metadata": {},
   "outputs": [
    {
     "name": "stdout",
     "output_type": "stream",
     "text": [
      "[1, 1, 2, 6, 24, 120, 720, 5040, 40320, 362880, 3628800]\n"
     ]
    }
   ],
   "source": [
    "def eulerianos_get(m):\n",
    "    # crear una tabla de tamaño (m+1) x (m+1)\n",
    "    a = [[0 for col in range(m+1)] for fil in range(m+1)]\n",
    "    \n",
    "    # base\n",
    "    a[0][0] = 1\n",
    "    \n",
    "    # recurrencia\n",
    "    for i in range(1, m+1):\n",
    "        for j in range(i):\n",
    "            a[i][j] = (i - j) * a[i-1][j-1] + (j + 1) * a[i-1][j]\n",
    "    \n",
    "    return a\n",
    "\n",
    "eulerianos_tabla = eulerianos_get(10)\n",
    "\n",
    "sumas = []\n",
    "\n",
    "for fila in eulerianos_tabla:\n",
    "    suma = sum(fila)\n",
    "    sumas.append(suma)\n",
    "\n",
    "print(sumas)"
   ]
  },
  {
   "cell_type": "code",
   "execution_count": 40,
   "metadata": {},
   "outputs": [
    {
     "name": "stdout",
     "output_type": "stream",
     "text": [
      "    0     1      2       3        4        5       6      7     8   9   10\n",
      "0    1     0      0       0        0        0       0      0     0   0   0\n",
      "1    1     0      0       0        0        0       0      0     0   0   0\n",
      "2    1     1      0       0        0        0       0      0     0   0   0\n",
      "3    1     4      1       0        0        0       0      0     0   0   0\n",
      "4    1    11     11       1        0        0       0      0     0   0   0\n",
      "5    1    26     66      26        1        0       0      0     0   0   0\n",
      "6    1    57    302     302       57        1       0      0     0   0   0\n",
      "7    1   120   1191    2416     1191      120       1      0     0   0   0\n",
      "8    1   247   4293   15619    15619     4293     247      1     0   0   0\n",
      "9    1   502  14608   88234   156190    88234   14608    502     1   0   0\n",
      "10   1  1013  47840  455192  1310354  1310354  455192  47840  1013   1   0\n"
     ]
    }
   ],
   "source": [
    "import pandas as pd\n",
    "\n",
    "eulerianos_tabla = eulerianos_get(10)\n",
    "\n",
    "df = pd.DataFrame(eulerianos_tabla)\n",
    "print(df)"
   ]
  },
  {
   "cell_type": "code",
   "execution_count": 35,
   "metadata": {},
   "outputs": [
    {
     "name": "stdout",
     "output_type": "stream",
     "text": [
      "[1, 1, 2, 6, 24, 120, 720, 5040, 40320, 362880, 3628800]\n"
     ]
    }
   ],
   "source": [
    "def factorial(n):\n",
    "    # base\n",
    "    if n == 0:\n",
    "        return 1\n",
    "    # recursion\n",
    "    else:\n",
    "        return n * factorial(n - 1)\n",
    "\n",
    "factoriales = []\n",
    "\n",
    "for i in range(11):\n",
    "    factoriales.append(factorial(i))\n",
    "\n",
    "print(factoriales)"
   ]
  },
  {
   "cell_type": "code",
   "execution_count": 36,
   "metadata": {},
   "outputs": [
    {
     "name": "stdout",
     "output_type": "stream",
     "text": [
      "[0, 0, 0, 0, 0, 0, 0, 0, 0, 0, 0]\n"
     ]
    }
   ],
   "source": [
    "aver = []\n",
    "\n",
    "for i in range(len(sumas)):\n",
    "    aver.append(sumas[i] - factoriales[i])\n",
    "\n",
    "print(aver)"
   ]
  },
  {
   "cell_type": "markdown",
   "metadata": {},
   "source": [
    "### Conjetura\n",
    "\n",
    "La suma de los números Eulerianos en el $m$-ésimo renglón es $m!$. \n",
    "$$\n",
    "\\sum_{k=0}^{m} a_{m,k} = m!\n",
    "$$"
   ]
  },
  {
   "cell_type": "markdown",
   "metadata": {},
   "source": [
    "### Demostración"
   ]
  },
  {
   "cell_type": "markdown",
   "metadata": {},
   "source": [
    "#### Paso base:\n",
    "\n",
    "Para $m = 0$:\n",
    "\n",
    "- $a_{0,0} = 1$, y la suma de los números Eulerianos de la primera fila es $0! = 1$."
   ]
  },
  {
   "cell_type": "markdown",
   "metadata": {},
   "source": [
    "#### Hipótesis de inducción:\n",
    "\n",
    "La suma de los números Eulerianos en el $m$-ésimo renglón es $m!$.\n",
    "\n",
    "  \n",
    "\n",
    "$$\n",
    "\\sum_{k=0}^{m} a_{m,k} = m!\n",
    "$$"
   ]
  },
  {
   "cell_type": "markdown",
   "metadata": {},
   "source": [
    "#### Paso inductivo:\n",
    "\n",
    "P.d:\n",
    "\n",
    "$$\n",
    "\\sum_{k=0}^{m+1} a_{m+1,k} = (m+1)!\n",
    "$$"
   ]
  },
  {
   "cell_type": "markdown",
   "metadata": {},
   "source": [
    "Por definición:\n",
    "$$\n",
    "a_{m,k} = (m - k) a_{m-1,k-1} + (k + 1) a_{m-1,k} \\quad \\text{si} \\quad 0 \\leq k \\leq m-1\n",
    "$$\n",
    "\n",
    "\n",
    "$$\n",
    "a_{m+1,k} = (m + 1 - k) a_{m,k-1} + (k + 1) a_{m,k} \\quad \\text{si} \\quad 0 \\leq k \\leq m\n",
    "$$"
   ]
  },
  {
   "cell_type": "markdown",
   "metadata": {},
   "source": [
    "Queremos sumar los renglones de la $m+1$-ésima fila\n",
    "\n",
    "  \n",
    "\n",
    "$$\n",
    "\\begin{align*}\n",
    "\n",
    "\\sum_{k=0}^{m+1} a_{m+1,k} &= \\sum_{k=0}^{m+1} \\left( (m+1 - k) a_{m,k-1} + (k + 1) a_{m,k} \\right) \\\\\n",
    "\n",
    "\\\\\n",
    "\n",
    "&=  \\sum_{k=0}^{m+1} (m+1 - k) a_{m,k-1} + \\sum_{k=0}^{m} (k + 1) a_{m,k}\\\\\n",
    "\n",
    "\\\\\n",
    "\n",
    "\n",
    "\n",
    "\n",
    "\\end{align*}\n",
    "$$"
   ]
  },
  {
   "cell_type": "markdown",
   "metadata": {},
   "source": [
    "Desarrollando las sumas\n",
    "\n",
    "$$\n",
    " \\sum_{k=0}^{m} (m + 1 - k) a_{m,k-1} = \n",
    " (m + 1) a_{m,-1} + \n",
    " m a_{m,0} + \n",
    " (m - 1) a_{m,1} +\n",
    " \\ldots +\n",
    " 2 a_{m,m-1} +\n",
    " a_{m,m} +\n",
    " 0\n",
    "$$\n",
    "\n",
    "$$\n",
    " \\sum_{k=0}^{m+1} (k + 1) a_{m,k} =\n",
    " a_{m,0} +\n",
    " 2 a_{m,1} +\n",
    " \\ldots + \n",
    " (m - 1) a_{m, m-1} + \n",
    " m a_{m,m} +\n",
    " (m+1)a_{m,m+1}\n",
    "$$"
   ]
  },
  {
   "cell_type": "markdown",
   "metadata": {},
   "source": [
    "Todos los términos aparecen $m + 1$ veces, entonces:\n",
    "\n",
    "$$\n",
    "\\begin{align*}\n",
    " \\sum_{k=0}^{m+1} (m+1 - k) a_{m,k-1} + \\sum_{k=0}^{m} (k + 1) a_{m,k} &=  (m + 1) a_{m,-1} + \n",
    " m a_{m,0} + \n",
    " (m - 1) a_{m,1} +\n",
    " \\ldots +\n",
    " 2 a_{m,m-1} +\n",
    " a_{m,m} +\n",
    " a_{m,0} +\n",
    " 2 a_{m,1} +\n",
    " \\ldots + \n",
    " (m - 1) a_{m, m-1} + \n",
    " m a_{m,m} +\n",
    " (m+1)a_{m,m+1} \\\\\n",
    " &= (m+1)a_{m,-1} + \n",
    " (m+1) a_{m,0} + \n",
    " (m+1) a_{m,1} +\n",
    " \\ldots +\n",
    " (m+1)a_{m,m-1} +\n",
    " (m+1)_{m,m} +\n",
    "(m+1)a_{m,m+1} \\\\ \n",
    "&=(m+1) \\sum_{k=-1}^{m+1}a_{m,k}\n",
    "\n",
    "\n",
    "\n",
    " \\end{align*}\n",
    "$$"
   ]
  },
  {
   "cell_type": "markdown",
   "metadata": {},
   "source": [
    "\n",
    "$a_{m,-1}$ y $a_{m,m+1}$ son 0, entonces\n",
    "\n",
    "\n",
    "\n",
    "$$\n",
    "\\begin{align*}\n",
    "\n",
    "(m+1) \\sum_{k=-1}^{m+1}a_{m,k}\n",
    "&= (m + 1) \\sum_{k=0}^{m} a_{m, k} \\\\\n",
    "&= (m + 1) \\cdot m! \\\\\n",
    "&=(m+1)!\n",
    "\n",
    "\n",
    "\n",
    "\\end{align*}\n",
    "$$"
   ]
  }
 ],
 "metadata": {
  "kernelspec": {
   "display_name": "Python 3",
   "language": "python",
   "name": "python3"
  },
  "language_info": {
   "codemirror_mode": {
    "name": "ipython",
    "version": 3
   },
   "file_extension": ".py",
   "mimetype": "text/x-python",
   "name": "python",
   "nbconvert_exporter": "python",
   "pygments_lexer": "ipython3",
   "version": "3.12.1"
  }
 },
 "nbformat": 4,
 "nbformat_minor": 2
}
