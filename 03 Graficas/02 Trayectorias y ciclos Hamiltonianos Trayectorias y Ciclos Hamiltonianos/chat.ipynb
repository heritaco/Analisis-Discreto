{
 "cells": [
  {
   "cell_type": "markdown",
   "metadata": {},
   "source": [
    "Chat da el copy con un formato de LaTeX diferente"
   ]
  },
  {
   "cell_type": "code",
   "execution_count": 14,
   "metadata": {},
   "outputs": [],
   "source": [
    "import pyperclip"
   ]
  },
  {
   "cell_type": "code",
   "execution_count": null,
   "metadata": {},
   "outputs": [],
   "source": [
    "input_string = r\"\"\"\n",
    "\n",
    "Text you want to convert to LaTeX math mode.\n",
    "\n",
    "\"\"\""
   ]
  },
  {
   "cell_type": "code",
   "execution_count": 16,
   "metadata": {},
   "outputs": [],
   "source": [
    "def replace_latex_delimiters(input_string):\n",
    "    replacements = {\n",
    "        r\"\\( \": \"$\",\n",
    "        r\" \\)\": \"$\",\n",
    "        r\"\\[\": \"$$\",\n",
    "        r\"\\]\": \"$$\"\n",
    "    }\n",
    "\n",
    "    for old, new in replacements.items():\n",
    "        input_string = input_string.replace(old, new)\n",
    "    \n",
    "    return input_string"
   ]
  },
  {
   "cell_type": "code",
   "execution_count": 17,
   "metadata": {},
   "outputs": [
    {
     "name": "stdout",
     "output_type": "stream",
     "text": [
      "Output copied to clipboard :)\n"
     ]
    }
   ],
   "source": [
    "output_string = replace_latex_delimiters(input_string)\n",
    "pyperclip.copy(output_string)\n",
    "print(\"Output copied to clipboard :)\")"
   ]
  }
 ],
 "metadata": {
  "kernelspec": {
   "display_name": "Python 3",
   "language": "python",
   "name": "python3"
  },
  "language_info": {
   "codemirror_mode": {
    "name": "ipython",
    "version": 3
   },
   "file_extension": ".py",
   "mimetype": "text/x-python",
   "name": "python",
   "nbconvert_exporter": "python",
   "pygments_lexer": "ipython3",
   "version": "3.12.1"
  }
 },
 "nbformat": 4,
 "nbformat_minor": 2
}
