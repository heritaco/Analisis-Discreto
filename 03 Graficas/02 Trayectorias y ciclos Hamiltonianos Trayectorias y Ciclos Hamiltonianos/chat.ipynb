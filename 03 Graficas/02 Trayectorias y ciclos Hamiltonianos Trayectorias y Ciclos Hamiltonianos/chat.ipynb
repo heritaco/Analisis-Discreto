{
 "cells": [
  {
   "cell_type": "markdown",
   "metadata": {},
   "source": [
    "Chat da el copy con un formato de LaTeX diferente"
   ]
  },
  {
   "cell_type": "code",
   "execution_count": 1,
   "metadata": {},
   "outputs": [],
   "source": [
    "import pyperclip"
   ]
  },
  {
   "cell_type": "code",
   "execution_count": 2,
   "metadata": {},
   "outputs": [],
   "source": [
    "input_string = r\"\"\"\n",
    "\n",
    "Supongamos que \\( G = (V, E) \\) es una gráfica no dirigida que cumple con las siguientes condiciones:\n",
    "\n",
    "\\( G \\) no contiene ciclos.  \n",
    "Si \\(a, b \\in V\\) y \\( (a, b) \\notin E \\), entonces la gráfica obtenida al agregar la arista \\( (a, b) \\) a \\( G \\) tiene precisamente un ciclo.\n",
    "\n",
    "\n",
    "P.d: \\( G \\) es un árbol.\n",
    "\n",
    "#### 1. **Demostración de que \\( G \\) es conexa:**\n",
    "\n",
    "Por la segunda condición, si agregamos cualquier arista \\( (a, b) \\) entre dos vértices \\( a \\) y \\( b \\) que no están conectados por una arista en \\( G \\), se forma un ciclo. Esto implica que \\( G \\) es **conexa**, ya que, para cualquier par de vértices \\( a \\) y \\( b \\), debe existir un camino entre ellos en \\( G \\) (de lo contrario, la nueva arista no podría formar un ciclo). \n",
    "\n",
    "#### 2. **Demostración de que \\( G \\) no contiene ciclos:**\n",
    "\n",
    "La primera condición establece que \\( G \\) no contiene ciclos. Esta es la propiedad fundamental de los árboles: son grafos acíclicos.\n",
    "\n",
    "#### 3. **Demostración de que \\( G \\) tiene exactamente \\( |V| - 1 \\) aristas:**\n",
    "\n",
    "Supongamos que \\( G \\) tiene \\( |V| \\) vértices y \\( |E| \\) aristas. Si \\( G \\) no contiene ciclos y es conexa, entonces debe ser un árbol. Sabemos que un árbol con \\( n \\) vértices tiene exactamente \\( n - 1 \\) aristas. Por lo tanto, \\( |E| = |V| - 1 \\).\n",
    "\n",
    "#### 4. **Conclusión de que \\( G \\) es un árbol:**\n",
    "\n",
    "Hemos demostrado que:\n",
    "\n",
    "1. \\( G \\) es conexa.\n",
    "2. \\( G \\) no contiene ciclos.\n",
    "3. \\( G \\) tiene exactamente \\( |V| - 1 \\) aristas.\n",
    "\n",
    "Por lo tanto, \\( G \\) cumple con las propiedades de un árbol. \n",
    "\n",
    "\"\"\""
   ]
  },
  {
   "cell_type": "code",
   "execution_count": 3,
   "metadata": {},
   "outputs": [],
   "source": [
    "def replace_latex_delimiters(input_string):\n",
    "    replacements = {\n",
    "        r\"\\( \": \"$\",\n",
    "        r\" \\)\": \"$\",\n",
    "        r\"\\[\": \"$$\",\n",
    "        r\"\\]\": \"$$\"\n",
    "    }\n",
    "\n",
    "    for old, new in replacements.items():\n",
    "        input_string = input_string.replace(old, new)\n",
    "    \n",
    "    return input_string"
   ]
  },
  {
   "cell_type": "code",
   "execution_count": 4,
   "metadata": {},
   "outputs": [
    {
     "name": "stdout",
     "output_type": "stream",
     "text": [
      "Output copied to clipboard :)\n"
     ]
    }
   ],
   "source": [
    "output_string = replace_latex_delimiters(input_string)\n",
    "pyperclip.copy(output_string)\n",
    "print(\"Output copied to clipboard :)\")"
   ]
  }
 ],
 "metadata": {
  "kernelspec": {
   "display_name": "Python 3",
   "language": "python",
   "name": "python3"
  },
  "language_info": {
   "codemirror_mode": {
    "name": "ipython",
    "version": 3
   },
   "file_extension": ".py",
   "mimetype": "text/x-python",
   "name": "python",
   "nbconvert_exporter": "python",
   "pygments_lexer": "ipython3",
   "version": "3.12.1"
  }
 },
 "nbformat": 4,
 "nbformat_minor": 2
}
