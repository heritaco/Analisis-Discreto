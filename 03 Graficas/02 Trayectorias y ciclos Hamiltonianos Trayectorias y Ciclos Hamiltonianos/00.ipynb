{
 "cells": [
  {
   "cell_type": "markdown",
   "metadata": {},
   "source": [
    "# Teorema"
   ]
  },
  {
   "cell_type": "markdown",
   "metadata": {},
   "source": [
    "**Nombre:** Heriberto Espino Montelongo\n",
    "\n",
    "**Materia:** Análisis Discreto\n",
    "\n",
    "**Clave:** O24-LDS1011-1\n",
    "\n",
    "**Fecha:** 6 de septiembre de 2024"
   ]
  },
  {
   "cell_type": "markdown",
   "metadata": {},
   "source": [
    "‎ "
   ]
  },
  {
   "cell_type": "markdown",
   "metadata": {},
   "source": [
    "*Sea $G = (V, E)$ una gráfica libre de lazos con $|V| = n \\geq 2$. Si para cualesquiera $x, y \\in V$ con $x \\neq y$ se cumple que:*\n",
    "$$\n",
    "\\deg(x) + \\deg(y) \\geq n - 1,\n",
    "$$\n",
    "\n",
    "*entonces $G$ tiene una trayectoria Hamiltoniana.*\n"
   ]
  },
  {
   "cell_type": "markdown",
   "metadata": {},
   "source": [
    "‎ "
   ]
  },
  {
   "cell_type": "markdown",
   "metadata": {},
   "source": [
    "#### Paso 1: $G$ es conexa\n",
    "\n",
    "Supongamos, por contradicción, que $G$ **no es conexa**. Entonces, $G$ tiene al menos dos componentes conexas $C_1$ y $C_2$, con $n_1$ y $n_2$ vértices, respectivamente ($n_1 + n_2 = n$).\n",
    "\n",
    "Sean $x \\in C_1$ y $y \\in C_2$. Como $x$ y $y$ están en componentes diferentes, no existe una arista entre ellos. Por lo tanto:\n",
    "$$\n",
    "\\deg(x) \\leq n_1 - 1 \\quad \\text{y} \\quad \\deg(y) \\leq n_2 - 1.\n",
    "$$\n",
    "\n",
    "Esto implica que:\n",
    "$$\n",
    "\\deg(x) + \\deg(y) \\leq (n_1 - 1) + (n_2 - 1) = n - 2.\n",
    "$$\n",
    "\n",
    "Sin embargo, esta desigualdad contradice la hipótesis de que:\n",
    "$$\n",
    "\\deg(x) + \\deg(y) \\geq n - 1.\n",
    "$$\n",
    "\n",
    "Por lo tanto, $G$ debe ser conexa.\n",
    "\n",
    "\n",
    "#### Paso 2: Construcción de la trayectoria\n",
    "\n",
    "Construyamos una trayectoria de longitud máxima en $G$, es decir:\n",
    "$$\n",
    "v_1 \\to v_2 \\to \\dots \\to v_m.\n",
    "$$\n",
    "\n",
    "Si $m = n$, entonces esta trayectoria visita todos los vértices de $G$, y por lo tanto es una **trayectoria Hamiltoniana**. Supongamos, por contradicción, que $m < n$, es decir, hay al menos un vértice $u \\in V$ que no está en la trayectoria.\n",
    "\n",
    "#### Paso 3: Propiedades de los extremos de la trayectoria\n",
    "\n",
    "Sean $v_1$ y $v_m$ los extremos de la trayectoria construida. Si $u$ no está en la trayectoria, como $G$ es conexa, existe una arista que conecta $u$ con algún vértice de la trayectoria. Supongamos que $u$ es adyacente a $v_i$ (donde $1 \\leq i \\leq m$). Entonces, podemos extender la trayectoria añadiendo $u$ a $v_i$, lo que contradice la maximalidad de la trayectoria inicial.\n",
    "\n",
    "Además, si $v_1$ es adyacente a $v_m$, podemos formar un ciclo que incluye todos los vértices de la trayectoria:\n",
    "$$\n",
    "v_1 \\to v_2 \\to \\dots \\to v_m \\to v_1.\n",
    "$$\n",
    "\n",
    "Si existe un ciclo, podemos extenderlo para incluir el vértice $u$, ya que $u$ está conectado al ciclo debido a la conectividad de $G$.\n",
    "\n",
    "\n",
    "#### Paso 4: Contradicción\n",
    "\n",
    "Dado que cada vértice $u \\notin \\{v_1, v_2, \\dots, v_m\\}$ está conectado con al menos un vértice de la trayectoria (por la hipótesis sobre los grados), podemos repetir este proceso hasta incluir todos los vértices de $G$. Esto implica que $m = n$, y por lo tanto, $G$ tiene una trayectoria Hamiltoniana.\n",
    "\n",
    "\n",
    "### Conclusión\n",
    "\n",
    "Hemos demostrado que si $\\deg(x) + \\deg(y) \\geq n - 1$ para cualesquiera $x, y \\in V$ con $x \\neq y$, entonces $G$ tiene una trayectoria Hamiltoniana.\n"
   ]
  }
 ],
 "metadata": {
  "language_info": {
   "name": "python"
  }
 },
 "nbformat": 4,
 "nbformat_minor": 2
}
