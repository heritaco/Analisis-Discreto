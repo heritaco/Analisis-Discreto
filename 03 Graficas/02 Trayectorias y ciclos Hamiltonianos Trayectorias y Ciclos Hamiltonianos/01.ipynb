{
 "cells": [
  {
   "cell_type": "markdown",
   "metadata": {},
   "source": [
    "# **Corolario**"
   ]
  },
  {
   "cell_type": "markdown",
   "metadata": {},
   "source": [
    "**Nombre:** Heriberto Espino Montelongo\n",
    "\n",
    "**Materia:** Análisis Discreto\n",
    "\n",
    "**Clave:** O24-LDS1011-1\n",
    "\n",
    "**Fecha:** 22 de noviembre de 2024"
   ]
  },
  {
   "cell_type": "markdown",
   "metadata": {},
   "source": [
    "‎ "
   ]
  },
  {
   "cell_type": "markdown",
   "metadata": {},
   "source": [
    "*Sea $G$ una gráfica no dirigida libre de lazos con $|V| =  n \\geq 2$ vértices. Si para cada $v \\in V$ se tiene que $deg(v) \\geq \\frac{n-1}{2}$, demuestre que $G$ tiene una trayectoria Hamiltoniana.*"
   ]
  },
  {
   "cell_type": "markdown",
   "metadata": {},
   "source": [
    "‎ "
   ]
  },
  {
   "cell_type": "markdown",
   "metadata": {},
   "source": [
    "Como $\\deg(v) \\geq \\frac{n-1}{2}$ para todo $v \\in V$, todos los vértices $v$ están conectados a al menos la mitad de los otros vértices de $G$. Entonces $G$ es conexa."
   ]
  },
  {
   "cell_type": "markdown",
   "metadata": {},
   "source": [
    "‎ "
   ]
  },
  {
   "cell_type": "markdown",
   "metadata": {},
   "source": [
    "Construyamos una trayectoria $T$ de longitud máxima en $G$, es decir:\n",
    "$$\n",
    "v_1 \\to v_2 \\to \\dots \\to v_m\n",
    "$$\n",
    "donde $m$ es la cantidad de vértices en la trayectoria.\n"
   ]
  },
  {
   "cell_type": "markdown",
   "metadata": {},
   "source": [
    "Si $m = n$, entonces $C$ incluye todos los vértices de $G$ y es una trayectoria Hamiltoniana."
   ]
  },
  {
   "cell_type": "markdown",
   "metadata": {},
   "source": [
    "‎ "
   ]
  },
  {
   "cell_type": "markdown",
   "metadata": {},
   "source": [
    "##### *Supongamos que no*"
   ]
  },
  {
   "cell_type": "markdown",
   "metadata": {},
   "source": [
    "Supongamos que $m < n$"
   ]
  },
  {
   "cell_type": "markdown",
   "metadata": {},
   "source": [
    "Entonces hay un vértice $u \\in V$ que no pertenece a $T$."
   ]
  },
  {
   "cell_type": "markdown",
   "metadata": {},
   "source": [
    "$u$ no es adyacente ni a $v_1$ ni a $v_m$.\n"
   ]
  },
  {
   "cell_type": "markdown",
   "metadata": {},
   "source": [
    "Dado que $\\deg(u) \\geq \\frac{n-1}{2}$, $u$ está conectado a al menos $\\frac{n-1}{2}$ vértices en $G$."
   ]
  },
  {
   "cell_type": "markdown",
   "metadata": {},
   "source": [
    "$u \\notin T$, pero $u$ debe estar conectado a vértices de $T$, y $u$ es adyacente a $\\frac{n-1}{2}$ vértices. "
   ]
  },
  {
   "cell_type": "markdown",
   "metadata": {},
   "source": [
    "Entonces hay al menos dos vértices consecutivos en $T$ que están adyacentes a $u$, podemos meter a $u$ en $T!!$ Esto contradice la suposición de que $m<n$."
   ]
  }
 ],
 "metadata": {
  "language_info": {
   "name": "python"
  }
 },
 "nbformat": 4,
 "nbformat_minor": 2
}
