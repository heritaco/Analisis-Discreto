{
 "cells": [
  {
   "cell_type": "markdown",
   "metadata": {},
   "source": [
    "# **Teorema**"
   ]
  },
  {
   "cell_type": "markdown",
   "metadata": {},
   "source": [
    "**Nombre:** Heriberto Espino Montelongo\n",
    "\n",
    "**Materia:** Análisis Discreto\n",
    "\n",
    "**Clave:** O24-LDS1011-1\n",
    "\n",
    "**Fecha:** 22 de noviembre de 2024"
   ]
  },
  {
   "cell_type": "markdown",
   "metadata": {},
   "source": [
    "‎ "
   ]
  },
  {
   "cell_type": "markdown",
   "metadata": {},
   "source": [
    "*Sea $G$ una gráfica no dirigida libre de lazos con $|V| \\geq 3$ vértices. Si $|E| \\geq \\binom{n+1}{2} + 2$, demuestre que $G$ tiene un ciclo Hamiltoniano.*"
   ]
  },
  {
   "cell_type": "markdown",
   "metadata": {},
   "source": [
    "‎ "
   ]
  },
  {
   "cell_type": "markdown",
   "metadata": {},
   "source": [
    "$G$ tiene $n$ vértices"
   ]
  },
  {
   "cell_type": "markdown",
   "metadata": {},
   "source": [
    "$G$ tiene $|E| \\geq \\binom{n+1}{2} + 2$ aristas."
   ]
  },
  {
   "cell_type": "markdown",
   "metadata": {},
   "source": [
    "$\\binom{n}{2}$ es el número de aristas de una gráfica completa con $n$ vértices, porque es el número de maneras de elegir $2$ vértices de $n$ para formar una arista."
   ]
  },
  {
   "cell_type": "markdown",
   "metadata": {},
   "source": [
    "Entonces $G$ tiene más aristas de las que podría tener una gráfica completa de $n$ vértices."
   ]
  },
  {
   "cell_type": "markdown",
   "metadata": {},
   "source": [
    "$$\n",
    "\\binom{n+1}{2} = \\frac{(n+1)!}{(n+1-2)!2!} = \\frac{(n+1)n}{2}\n",
    "$$"
   ]
  },
  {
   "cell_type": "markdown",
   "metadata": {},
   "source": [
    "#### **Paso 2: Reducción al caso de $n+1$ vértices**\n",
    "\n",
    "El hecho de que $|E| \\geq \\binom{n+1}{2} + 2$ implica que $G$ puede ser vista como una subgráfica de una gráfica completa con $n+1$ vértices, excepto que faltan al menos 2 aristas.\n",
    "\n",
    "Sea $H$ una gráfica completa con $n+1$ vértices, es decir, $|E(H)| = \\binom{n+1}{2}$. Si eliminamos 2 aristas de $H$, todavía quedará una gráfica $G$ con $|E| \\geq \\binom{n+1}{2} + 2 - 2 = \\binom{n+1}{2}$, que sigue siendo muy densa."
   ]
  },
  {
   "cell_type": "markdown",
   "metadata": {},
   "source": [
    "#### **Paso 3: Uso del teorema de Dirac**\n",
    "\n",
    "Por el **teorema de Dirac**, si $G$ es una gráfica con $n \\geq 3$ vértices y cada vértice satisface $\\deg(v) \\geq \\frac{n}{2}$, entonces $G$ tiene un ciclo Hamiltoniano.\n",
    "\n",
    "Aunque no conocemos directamente los grados de los vértices de $G$, sabemos que:\n",
    "$$\n",
    "|E| \\geq \\binom{n+1}{2} + 2.\n",
    "$$\n",
    "\n",
    "Esto implica que muchos vértices tienen un grado muy alto debido a la densidad de $G$. Podemos derivar una cota para el grado mínimo $\\delta(G)$."
   ]
  },
  {
   "cell_type": "markdown",
   "metadata": {},
   "source": [
    "#### **Paso 4: Cálculo del grado mínimo**\n",
    "\n",
    "El número máximo de aristas de $G$ es:\n",
    "$$\n",
    "\\binom{n}{2} = \\frac{n(n-1)}{2}.\n",
    "$$\n",
    "\n",
    "Como $|E| \\geq \\binom{n+1}{2} + 2$, $G$ tiene más aristas que una gráfica completa $K_n$, lo cual implica que muchos vértices están conectados a una cantidad significativa de los $n+1$ vértices disponibles. Específicamente:\n",
    "$$\n",
    "\\delta(G) \\geq \\frac{n}{2}.\n",
    "$$"
   ]
  },
  {
   "cell_type": "markdown",
   "metadata": {},
   "source": [
    "#### **Paso 5: Conclusión**\n",
    "\n",
    "Por el teorema de Dirac, si $\\delta(G) \\geq \\frac{n}{2}$, entonces $G$ tiene un **ciclo Hamiltoniano**. Esto completa la demostración."
   ]
  }
 ],
 "metadata": {
  "language_info": {
   "name": "python"
  }
 },
 "nbformat": 4,
 "nbformat_minor": 2
}
