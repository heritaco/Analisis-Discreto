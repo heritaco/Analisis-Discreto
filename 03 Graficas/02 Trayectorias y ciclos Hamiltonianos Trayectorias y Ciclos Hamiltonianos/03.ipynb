{
 "cells": [
  {
   "cell_type": "markdown",
   "metadata": {},
   "source": [
    "# **Teorema**"
   ]
  },
  {
   "cell_type": "markdown",
   "metadata": {},
   "source": [
    "**Nombre:** Heriberto Espino Montelongo\n",
    "\n",
    "**Materia:** Análisis Discreto\n",
    "\n",
    "**Clave:** O24-LDS1011-1\n",
    "\n",
    "**Fecha:** 22 de noviembre de 2024"
   ]
  },
  {
   "cell_type": "markdown",
   "metadata": {},
   "source": [
    "‎ "
   ]
  },
  {
   "cell_type": "markdown",
   "metadata": {},
   "source": [
    "*Sea $G$ una gráfica no dirigida libre de lazos con $|V| \\geq 3$ vértices. Si $|E| \\geq \\binom{n+1}{2} + 2$, demuestre que $G$ tiene un ciclo Hamiltoniano.*"
   ]
  },
  {
   "cell_type": "markdown",
   "metadata": {},
   "source": [
    "‎ "
   ]
  },
  {
   "cell_type": "markdown",
   "metadata": {},
   "source": [
    "$G$ tiene $n$ vértices"
   ]
  },
  {
   "cell_type": "markdown",
   "metadata": {},
   "source": [
    "$G$ tiene $|E| \\geq \\binom{n+1}{2} + 2$ aristas."
   ]
  },
  {
   "cell_type": "markdown",
   "metadata": {},
   "source": [
    "$\\binom{n}{2}$ es el número de aristas de una gráfica completa con $n$ vértices, porque es el número de maneras de elegir $2$ vértices de $n$ para formar una arista."
   ]
  },
  {
   "cell_type": "markdown",
   "metadata": {},
   "source": [
    "Entonces $G$ tiene más aristas de las que podría tener una gráfica completa de $n$ vértices."
   ]
  },
  {
   "cell_type": "markdown",
   "metadata": {},
   "source": [
    "$G$ Es una múltigráfica con más aristas que $K_n$"
   ]
  },
  {
   "cell_type": "markdown",
   "metadata": {},
   "source": [
    "$$\n",
    "\\binom{n+1}{2} = \\frac{(n+1)!}{(n+1-2)!2!} = \\frac{(n+1)n}{2}\n",
    "$$"
   ]
  },
  {
   "cell_type": "markdown",
   "metadata": {},
   "source": [
    "Como tiene más aristas, el grado de sus vertices es mayor."
   ]
  },
  {
   "cell_type": "markdown",
   "metadata": {},
   "source": [
    "‎ "
   ]
  },
  {
   "cell_type": "markdown",
   "metadata": {},
   "source": [
    "*Por el corolario pasado*:"
   ]
  },
  {
   "cell_type": "markdown",
   "metadata": {},
   "source": [
    "*Sea $G$ una gráfica no dirigida libre de lazos con $|V|\\geq 3$ vértices. Si $deg(v) \\geq \\frac{n}{2}$ para todo $v \\in V$, entonces $G$ contiene un ciclo Hamiltoniano.*"
   ]
  },
  {
   "cell_type": "markdown",
   "metadata": {},
   "source": [
    "No conocemos los grados de los vértices de $G$, pero sabemos que:\n",
    "$$\n",
    "|E| \\geq \\binom{n+1}{2} + 2.\n",
    "$$\n"
   ]
  },
  {
   "cell_type": "markdown",
   "metadata": {},
   "source": [
    "El número de aristas de $K_n$ es:\n",
    "$$\n",
    "|E| = \\binom{n}{2} = \\frac{n(n-1)}{2}.\n",
    "$$"
   ]
  },
  {
   "cell_type": "markdown",
   "metadata": {},
   "source": [
    "Y también, para $K_n$, $deg(v) = n-1$ para todo $v$."
   ]
  },
  {
   "cell_type": "markdown",
   "metadata": {},
   "source": [
    "Por el teorema pasado, $K_n$ tiene un ciclo hamiltoniano.\n",
    "\n",
    "$$\n",
    "deg(v) = n-1 \\geq \\frac{n}{2}\n",
    "$$\n",
    "\n",
    "$|V| \\geq 3$."
   ]
  },
  {
   "cell_type": "markdown",
   "metadata": {},
   "source": [
    "Como\n",
    "\n",
    "$$\n",
    "deg(v_G) \\geq deg(v_{K_n}) \\geq \\frac{n}{2}\n",
    "$$"
   ]
  },
  {
   "cell_type": "markdown",
   "metadata": {},
   "source": [
    "Entonces $G$ tiene un ciclo Hamiltoniano."
   ]
  }
 ],
 "metadata": {
  "language_info": {
   "name": "python"
  }
 },
 "nbformat": 4,
 "nbformat_minor": 2
}
