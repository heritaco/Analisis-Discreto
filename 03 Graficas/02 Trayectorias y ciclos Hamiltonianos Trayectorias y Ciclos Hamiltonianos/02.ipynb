{
 "cells": [
  {
   "cell_type": "markdown",
   "metadata": {},
   "source": [
    "# **Corolario**"
   ]
  },
  {
   "cell_type": "markdown",
   "metadata": {},
   "source": [
    "**Nombre:** Heriberto Espino Montelongo\n",
    "\n",
    "**Materia:** Análisis Discreto\n",
    "\n",
    "**Clave:** O24-LDS1011-1\n",
    "\n",
    "**Fecha:** 22 de noviembre de 2024"
   ]
  },
  {
   "cell_type": "markdown",
   "metadata": {},
   "source": [
    "‎ "
   ]
  },
  {
   "cell_type": "markdown",
   "metadata": {},
   "source": [
    "*Sea $G$ una gráfica no dirigida libre de lazos con $|V|\\geq 3$ vértices. Si $deg(v) \\geq \\frac{n}{2}$ para cada $v \\in V$, demuestre que $G$ contiene un ciclo Hamiltoniano.*"
   ]
  },
  {
   "cell_type": "markdown",
   "metadata": {},
   "source": [
    "‎ "
   ]
  },
  {
   "cell_type": "markdown",
   "metadata": {},
   "source": [
    "Sea $C$ un camino de longitud máxima en $G$ formado por los vértices:\n",
    "$$\n",
    "v_1, v_2, \\dots ,v_k\n",
    "$$\n",
    "con $k \\leq n$."
   ]
  },
  {
   "cell_type": "markdown",
   "metadata": {},
   "source": [
    "Si $k = n$, entonces $C$ incluye todos los vértices de $G y además $v_1 = v_k$, entonces hemos terminado."
   ]
  },
  {
   "cell_type": "markdown",
   "metadata": {},
   "source": [
    "‎ "
   ]
  },
  {
   "cell_type": "markdown",
   "metadata": {},
   "source": [
    "##### *Supongamos que no*"
   ]
  },
  {
   "cell_type": "markdown",
   "metadata": {},
   "source": [
    "Supongamos que $C$ no es un ciclo Hamiltoniano, $v_1$ no es adyacente a $v_k$ y no podemos añadir más vértices a $C$, ya que es un camino máximo.\n"
   ]
  },
  {
   "cell_type": "markdown",
   "metadata": {},
   "source": [
    "Como que $\\deg(v_1) \\geq \\frac{n}{2}$ y $\\deg(v_k) \\geq \\frac{n}{2}$, cada uno de estos vértices tiene al menos $\\frac{n}{2}$ vecinos."
   ]
  },
  {
   "cell_type": "markdown",
   "metadata": {},
   "source": [
    "Como $|V| = n$, y $v_1$ y $v_k$ no son adyacentes, la intersección de los conjuntos de vecinos de $v_1$ y $v_k$ tiene al menos:\n",
    "$$\n",
    "\\deg(v_1) + \\deg(v_k) - (n - 2) \\geq n,\n",
    "$$\n",
    "lo que implica que hay un vértice común $u$ adyacente tanto a $v_1$ como a $v_k$.\n"
   ]
  },
  {
   "cell_type": "markdown",
   "metadata": {},
   "source": [
    "El vértice $u$ permite formar un ciclo en $G$. Si $u$ pertenece a $C$, podemos cerrar el ciclo con $v_1 \\to u \\to v_k \\to v_1$, obteniendo un ciclo Hamiltoniano. Contradice la suposición de que $C$ no podía ser más largo."
   ]
  }
 ],
 "metadata": {
  "language_info": {
   "name": "python"
  }
 },
 "nbformat": 4,
 "nbformat_minor": 2
}
