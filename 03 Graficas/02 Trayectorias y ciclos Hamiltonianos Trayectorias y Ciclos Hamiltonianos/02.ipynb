{
 "cells": [
  {
   "cell_type": "markdown",
   "metadata": {},
   "source": [
    "# **Corolario**"
   ]
  },
  {
   "cell_type": "markdown",
   "metadata": {},
   "source": [
    "**Nombre:** Heriberto Espino Montelongo\n",
    "\n",
    "**Materia:** Análisis Discreto\n",
    "\n",
    "**Clave:** O24-LDS1011-1\n",
    "\n",
    "**Fecha:** 22 de noviembre de 2024"
   ]
  },
  {
   "cell_type": "markdown",
   "metadata": {},
   "source": [
    "‎ "
   ]
  },
  {
   "cell_type": "markdown",
   "metadata": {},
   "source": [
    "*Sea $G$ una gráfica no dirigida libre de lazos con $|V|\\geq 3$ vértices. Si $deg(v) \\geq \\frac{n}{2}$ para cada $v \\in V$, demuestre que $G$ contiene un ciclo Hamiltoniano.*"
   ]
  },
  {
   "cell_type": "markdown",
   "metadata": {},
   "source": [
    "‎ "
   ]
  },
  {
   "cell_type": "markdown",
   "metadata": {},
   "source": [
    "Sea $C$ un camino de longitud máxima en $G$ formado por los vértices:\n",
    "$$\n",
    "v_1, v_2, \\dots ,v_k\n",
    "$$\n",
    "con $k \\leq n$."
   ]
  },
  {
   "cell_type": "markdown",
   "metadata": {},
   "source": [
    "Si $k = n$, entonces $C$ incluye todos los vértices de $G$ y además $v_1 = v_k$, entonces hemos terminado."
   ]
  },
  {
   "cell_type": "markdown",
   "metadata": {},
   "source": [
    "‎ "
   ]
  },
  {
   "cell_type": "markdown",
   "metadata": {},
   "source": [
    "##### *Supongamos que no*"
   ]
  },
  {
   "cell_type": "markdown",
   "metadata": {},
   "source": [
    "Supongamos que $C$ no es un ciclo Hamiltoniano, entonces $v_1$ no es adyacente a $v_k$ y no podemos añadir más vértices a $C$, ya que es un camino máximo.\n"
   ]
  },
  {
   "cell_type": "markdown",
   "metadata": {},
   "source": [
    "Sabemos que:\n",
    "$$\n",
    "\\text{deg}(v_1) \\geq \\frac{n}{2} \\quad \\text{y} \\quad \\text{deg}(v_k) \\geq \\frac{n}{2}\n",
    "$$\n"
   ]
  },
  {
   "cell_type": "markdown",
   "metadata": {},
   "source": [
    "Como $|V| = n$, y $v_1$ y $v_k$ no están adyacentes, los vecinos de $v_1$ y $v_k$ tienen una intersección. Sea $u$ el que es vecino de $v_1$ y $v_k$.\n",
    "\n",
    "La intersección de los vecinos de $v_1$ y $v_k$ tiene al menos $\\text{deg}(v_1) + \\text{deg}(v_k) - (n - 2)$ elementos. Esto es:\n",
    "$$\n",
    "\\text{deg}(v_1) + \\text{deg}(v_k) - (n - 2) \\geq n\n",
    "$$\n",
    "Lo que implica que existe un vértice $u$ que está conectado tanto a $v_1$ como a $v_k$."
   ]
  },
  {
   "cell_type": "markdown",
   "metadata": {},
   "source": [
    "El vértice $u$ permite formar un ciclo en $G$. Si $u$ pertenece a $C$, podemos cerrar el ciclo con $v_1 \\to u \\to v_k \\to v_1$, obteniendo un ciclo Hamiltoniano. Contradice la suposición de que $C$ no podía ser más largo."
   ]
  }
 ],
 "metadata": {
  "language_info": {
   "name": "python"
  }
 },
 "nbformat": 4,
 "nbformat_minor": 2
}
