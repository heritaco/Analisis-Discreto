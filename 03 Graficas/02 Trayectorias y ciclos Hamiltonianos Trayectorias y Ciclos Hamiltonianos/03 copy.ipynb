{
 "cells": [
  {
   "cell_type": "markdown",
   "metadata": {},
   "source": [
    "# **Teorema**"
   ]
  },
  {
   "cell_type": "markdown",
   "metadata": {},
   "source": [
    "**Nombre:** Heriberto Espino Montelongo\n",
    "\n",
    "**Materia:** Análisis Discreto\n",
    "\n",
    "**Clave:** O24-LDS1011-1\n",
    "\n",
    "**Fecha:** 22 de noviembre de 2024"
   ]
  },
  {
   "cell_type": "markdown",
   "metadata": {},
   "source": [
    "‎ "
   ]
  },
  {
   "cell_type": "markdown",
   "metadata": {},
   "source": [
    "*Sea $G$ una gráfica no dirigida libre de lazos con $|V| \\geq 3$ vértices. Si $|E| \\geq \\binom{n-1}{2} + 2$, demuestre que $G$ tiene un ciclo Hamiltoniano.*"
   ]
  },
  {
   "cell_type": "markdown",
   "metadata": {},
   "source": [
    "‎ "
   ]
  },
  {
   "cell_type": "markdown",
   "metadata": {},
   "source": [
    "*Supongamos que $G$ no tiene un ciclo Hamiltoniano.*"
   ]
  },
  {
   "cell_type": "markdown",
   "metadata": {},
   "source": [
    "$|E| \\geq \\binom{n-1}{2} + 2$ significa que $G$ tiene al menos el número de aristas de una gráfica completa de n-1 vértices, más 2 aristas adicionales."
   ]
  },
  {
   "cell_type": "markdown",
   "metadata": {},
   "source": [
    "$|E| \\geq \\binom{n-1}{2} = \\frac{(n-1)(n-2)}{2} = \\frac{n^2 - 3n + 6}{2}$"
   ]
  },
  {
   "cell_type": "markdown",
   "metadata": {},
   "source": [
    "\n",
    "\n",
    "Sea $G$ una gráfica con $n$ vértices y al menos $\\frac{(n−1)(n−2)}{2} + 2$ aristas. \n",
    "\n",
    "Supongamos que encontramos un vértice $v$ que está conectado entre la mitad y todos los vértices, $\\frac{n−1}{2} < \\text{deg}(v) < n−1$. \n",
    "\n",
    "Al eliminar $v$, obtenemos una gráfica con $n−1$ vértices y, al menos $\\frac{(n−2)(n−3)}{2} + 2$ aristas, por inducción tiene un ciclo Hamiltoniano. \n",
    "\n",
    "Por la desigualdad izquierda, $v$ es vecino de más de la mitad de los vértices, por lo tanto de dos vértices consecutivos en este ciclo y podemos insertar $v$ entre ellos, encontrando así un ciclo Hamiltoniano para la gráfica original.\n",
    "\n",
    "Entonces todos los vértices tienen ya sea $\\text{deg}(v) = n−1$ o $\\text{deg}(v) \\leq \\frac{n−1}{2}$.\n",
    "\n",
    "Si hay $k$ vértices de grado $\\leq \\frac{n−1}{2}$, hay:\n",
    "\n",
    "\n",
    "$$\n",
    "(n−k)(n−1) + k\\frac{n−1}{2} = \\frac{(n−1)(2n−k)}{4}\n",
    "$$\n",
    "\n",
    "\n",
    "aristas. Por lo tanto,\n",
    "\n",
    "\n",
    "$$\n",
    "\\frac{(n−1)(2n−k)}{4} \\geq \\frac{(n−1)(n−2)}{2} + 2,\n",
    "$$\n",
    "\n",
    "\n",
    "o\n",
    "\n",
    "\n",
    "$$\n",
    "k \\leq \\frac{4−8n}{n−1}.(1)\n",
    "$$\n",
    "\n",
    "\n",
    "Concluimos $k \\leq 3$. Pero si $v$ es uno de estos $k$ vértices, también tenemos $\\frac{n−1}{2} \\geq \\text{deg}(v) \\geq n−k$, o\n",
    "\n",
    "\n",
    "$$\n",
    "k \\geq \\frac{n+1}{2}.(2)\n",
    "$$\n",
    "\n",
    "\n",
    "Combinado, $\\frac{4−8n}{n−1} \\geq \\frac{n+1}{2}$, o después de reorganizar\n",
    "\n",
    "\n",
    "$$\n",
    "0 \\geq n^2−8n + 23,\n",
    "$$"
   ]
  }
 ],
 "metadata": {
  "language_info": {
   "name": "python"
  }
 },
 "nbformat": 4,
 "nbformat_minor": 2
}
