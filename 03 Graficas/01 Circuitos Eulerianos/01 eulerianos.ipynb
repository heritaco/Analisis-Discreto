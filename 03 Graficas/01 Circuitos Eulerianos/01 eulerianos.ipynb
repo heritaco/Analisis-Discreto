{
 "cells": [
  {
   "cell_type": "markdown",
   "metadata": {},
   "source": [
    "## Si $G$ es conexa y tiene exactamente dos vértices de grado impar, entonces existe un paseo Euleriano en $G$."
   ]
  },
  {
   "cell_type": "markdown",
   "metadata": {},
   "source": [
    "- $G$ Es conexa.\n",
    "- Tenemos dos vértices de grado impar, todos los demás tienen grado par"
   ]
  },
  {
   "cell_type": "markdown",
   "metadata": {},
   "source": [
    "Sean $v_1$ y $v_n$ los vértices con grado impar.\n",
    "\n",
    "Si ambos tienen grado 1, es claro que la única forma de hacer el paseo es empezando en $v_1$ y terminando en $v_n$. Porque todos los demás vértices tienen grado impar, entonces se puede formar un camino euleriano.\n",
    "\n",
    "Si el grado de $v_1$ es 3 y el de $v_n$ es 1, entonces, al empezar en $v_1$ y movernos a otro vértice solo quedan 2 arístas disponibles para $v_1$, formando un camino euleriano que termina en $v_n$.\n",
    "\n",
    "Si el grado de $v_1$ y $v_n$ es \n",
    "\n",
    "Step 2: Constructing the Path\n",
    "Since the graph is connected and has exactly two vertices with odd degrees, we will now construct an Eulerian path by using the following approach:\n",
    "\n",
    "Choose a Starting Vertex:\n",
    "Start at the vertex \n",
    "𝑣\n",
    "v (one of the odd-degree vertices).\n",
    "\n",
    "Building a Path by Traversing Unvisited Edges:\n",
    "\n",
    "Construct a path by continuously choosing an unvisited edge at each vertex to traverse. At every vertex with an even degree, we can always enter and leave using pairs of edges, meaning that the traversal will not \"trap\" us in any vertex except at the starting or ending vertices.\n",
    "Because all other vertices have even degrees, this process can continue until we reach the other odd-degree vertex \n",
    "𝑤\n",
    "w, where we will have exhausted all edges.\n",
    "Completeness of the Path:\n",
    "\n",
    "The path must end at \n",
    "𝑤\n",
    "w, the other vertex of odd degree, because both \n",
    "𝑣\n",
    "v and \n",
    "𝑤\n",
    "w have an unmatched edge (odd degree) that the path can \"use up\" as an endpoint.\n",
    "This ensures that the path will not need to \"backtrack\" or revisit edges, as all even-degree vertices can pair up their edges within the traversal, while \n",
    "𝑣\n",
    "v and \n",
    "𝑤\n",
    "w serve as the unmatched endpoints."
   ]
  },
  {
   "cell_type": "markdown",
   "metadata": {},
   "source": [
    "## Si existe un paseo Euleriano en **$G$**, entonces $G$ es conexa y tiene exactamente dos vértices de grado impar.\n"
   ]
  },
  {
   "cell_type": "markdown",
   "metadata": {},
   "source": [
    "- No dice \"tiene a lo más dos vértices\" porque si tiene menos de dos es un circuito y si tiene más de dos no se puede."
   ]
  },
  {
   "cell_type": "markdown",
   "metadata": {},
   "source": [
    "- Solo puede existir un paseo Euleriano si $G$ es conexa.\n"
   ]
  },
  {
   "cell_type": "markdown",
   "metadata": {},
   "source": [
    "- Si no hay vértices de grado impar, ya demostramos que es un circuito.\n",
    "- Si hay un vértice de grado impar, se empieza con ese y al movernos al otro vértice:\n",
    "    - Si tenía grado uno, ahora estamos en una $G'$ donde todos tienen grado par.\n",
    "    - Si tenia grado tres, al movernos una vez, ahora en $G'$ todos tienen grado par.\n",
    "    - Si tiene grado mayor o igual a 5, como es un paseo  \n",
    "- "
   ]
  },
  {
   "cell_type": "markdown",
   "metadata": {},
   "source": [
    "Necessity (If there is an Euler path from \n",
    "𝑣\n",
    "v to \n",
    "𝑤\n",
    "w, then the conditions hold)\n",
    "Assume that there is an Eulerian path from \n",
    "𝑣\n",
    "v to \n",
    "𝑤\n",
    "w in \n",
    "𝐺\n",
    "G.\n",
    "\n",
    "𝐺\n",
    "G is connected:\n",
    "Since an Eulerian path must traverse every edge exactly once, there can be no disconnected components. Otherwise, we would have edges that could not be visited by the path. Thus, \n",
    "𝐺\n",
    "G must be connected.\n",
    "\n",
    "Degrees of \n",
    "𝑣\n",
    "v and \n",
    "𝑤\n",
    "w:\n",
    "An Eulerian path that starts at \n",
    "𝑣\n",
    "v and ends at \n",
    "𝑤\n",
    "w implies that both \n",
    "𝑣\n",
    "v and \n",
    "𝑤\n",
    "w have odd degrees. Here’s why:\n",
    "\n",
    "At any vertex other than the start and end points, the Eulerian path must \"enter\" and \"exit\" the vertex an equal number of times, implying an even degree for those vertices.\n",
    "However, at the starting vertex \n",
    "𝑣\n",
    "v and ending vertex \n",
    "𝑤\n",
    "w, the path only \"enters\" or \"exits\" once without pairing, resulting in an odd degree at both vertices.\n",
    "All other vertices have positive even degrees:\n",
    "Every other vertex in the graph must be entered and exited the same number of times as the Eulerian path passes through, which requires an even degree. Furthermore, since \n",
    "𝐺\n",
    "G has no isolated vertices (it is connected and has an Eulerian path), each vertex must have a positive degree.\n",
    "\n",
    "Therefore, if there is an Eulerian path from \n",
    "𝑣\n",
    "v to \n",
    "𝑤\n",
    "w, then \n",
    "𝐺\n",
    "G must be connected, \n",
    "𝑣\n",
    "v and \n",
    "𝑤\n",
    "w must have odd degrees, and all other vertices must have positive even degrees."
   ]
  }
 ],
 "metadata": {
  "language_info": {
   "name": "python"
  }
 },
 "nbformat": 4,
 "nbformat_minor": 2
}
