{
 "cells": [
  {
   "cell_type": "markdown",
   "metadata": {},
   "source": [
    "# **Teorema**"
   ]
  },
  {
   "cell_type": "markdown",
   "metadata": {},
   "source": [
    "**Nombre:** Heriberto Espino Montelongo\n",
    "\n",
    "**Materia:** Análisis Discreto\n",
    "\n",
    "**Clave:** O24-LDS1011-1\n",
    "\n",
    "**Fecha:** 21 de noviembre de 2024"
   ]
  },
  {
   "cell_type": "markdown",
   "metadata": {},
   "source": [
    "‎ "
   ]
  },
  {
   "cell_type": "markdown",
   "metadata": {},
   "source": [
    "*Sea $G = (V, E)$ una gráfica o multigráfica dirigida sin vértices aislados.*\n",
    "\n",
    "*Demuestre que $G$ tiene un circuito Euleriano dirigido si y sólo si $G$ es conexa y $od(v) = id(v)$ para cada $v \\in V$.*"
   ]
  },
  {
   "cell_type": "markdown",
   "metadata": {},
   "source": [
    "‎ "
   ]
  },
  {
   "cell_type": "markdown",
   "metadata": {},
   "source": [
    "##### **Si $G$ tiene un circuito euleriano dirigido, entonces $G$ es conexo y para cada $v \\in V$, el grado de entrada de $v$ debe ser igual al grado de salida de $v$.**"
   ]
  },
  {
   "cell_type": "markdown",
   "metadata": {},
   "source": [
    "*$G$ tiene un circuito euleriano dirigido.*"
   ]
  },
  {
   "cell_type": "markdown",
   "metadata": {},
   "source": [
    "Entonces $G$ es conexo, porque tienes que pasar por todas las arístas al menos una vez."
   ]
  },
  {
   "cell_type": "markdown",
   "metadata": {},
   "source": [
    "Cada vez que entramos a un vértice, también debemos salir de él para continuar el circuito. Entonces, para cada vértice, el número de veces que el circuito entra en $v$, que es su grado de entrada, debe ser igual al número de veces que sale de $v$, que es su grado de salida."
   ]
  },
  {
   "cell_type": "markdown",
   "metadata": {},
   "source": [
    "‎ "
   ]
  },
  {
   "cell_type": "markdown",
   "metadata": {},
   "source": [
    "##### **Si $G$ es conexo y cada vértice tiene igual grado de entrada y de salida, entonces $G$ tiene un circuito euleriano dirigido.**"
   ]
  },
  {
   "cell_type": "markdown",
   "metadata": {},
   "source": [
    "*$G$ es conexo*\n",
    "\n",
    "*$od(v) = id(v)$ para cada $v \\in V$.*"
   ]
  },
  {
   "cell_type": "markdown",
   "metadata": {},
   "source": [
    "***P.D: $G$ tiene un circuito euleriano dirigido.***\n"
   ]
  },
  {
   "cell_type": "markdown",
   "metadata": {},
   "source": [
    "Elejimos cualquier vértice $v_0$ en $G$ como punto de inicio para crear nuestro circuito."
   ]
  },
  {
   "cell_type": "markdown",
   "metadata": {},
   "source": [
    "Sea $C$ el circuito más largo:\n",
    "\n",
    "$$\n",
    "v_0 \\to v_2 \\to \\dots \\to v_m \\to v_0\n",
    "$$"
   ]
  },
  {
   "cell_type": "markdown",
   "metadata": {},
   "source": [
    "Si todas las aristas de $G$ han sido visitadas, $v_m = v_n$, entonces encontramos el circuito euleriano de $G$."
   ]
  },
  {
   "cell_type": "markdown",
   "metadata": {},
   "source": [
    "*Si aún quedan aristas no visitadas:*\n"
   ]
  },
  {
   "cell_type": "markdown",
   "metadata": {},
   "source": [
    "Encontramos un vértice $w$ en $C$ que tiene aristas de salida que no están en $C$. Comenzando desde $w$, formamos un nuevo circuito $C'$ con las aristas no visitadas y agregamos $C'$ a $C$, reemplazando a $w$ en $C$ con el nuevo camino $C'$, formando un circuito más largo que tiene más aristas.\n",
    "\n",
    "- Si hay aristas no visitadas, siempre podemos encontrar un vértice en $C$ con una arista de salida no visitada porque cada vértice tiene el mismo número de aristas que entran y salen."
   ]
  },
  {
   "cell_type": "markdown",
   "metadata": {},
   "source": [
    "Repitos el algoritmo de encontrar nuevos circuitos y agregarlos a $C$ hasta que todas las aristas en $G$ hayan sido visitadas."
   ]
  },
  {
   "cell_type": "markdown",
   "metadata": {},
   "source": [
    "Como $G$ es finito y recorremos cada arista una vez, el algoritmo debe terminar con un circuito euleriano."
   ]
  }
 ],
 "metadata": {
  "language_info": {
   "name": "python"
  }
 },
 "nbformat": 4,
 "nbformat_minor": 2
}
