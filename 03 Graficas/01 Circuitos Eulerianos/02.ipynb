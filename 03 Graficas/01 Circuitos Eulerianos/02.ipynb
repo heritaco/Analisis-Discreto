{
 "cells": [
  {
   "cell_type": "markdown",
   "metadata": {},
   "source": [
    "# **Teorema**"
   ]
  },
  {
   "cell_type": "markdown",
   "metadata": {},
   "source": [
    "**Nombre:** Heriberto Espino Montelongo\n",
    "\n",
    "**Materia:** Análisis Discreto\n",
    "\n",
    "**Clave:** O24-LDS1011-1\n",
    "\n",
    "**Fecha:** 21 de noviembre de 2024"
   ]
  },
  {
   "cell_type": "markdown",
   "metadata": {},
   "source": [
    "‎ "
   ]
  },
  {
   "cell_type": "markdown",
   "metadata": {},
   "source": [
    "*Sea $G = (V, E)$ una gráfica o multigráfica dirigida sin vértices aislados.*\n",
    "\n",
    "*Demuestre que $G$ tiene un circuito Euleriano dirigido si y sólo si $G$ es conexa y $od(v) = id(v)$ para cada $v \\in V$.*"
   ]
  },
  {
   "cell_type": "markdown",
   "metadata": {},
   "source": [
    "‎ "
   ]
  },
  {
   "cell_type": "markdown",
   "metadata": {},
   "source": [
    "##### **Si $G$ tiene un circuito euleriano dirigido, entonces $G$ es conexo y para cada $v \\in V$, el grado de entrada de $v$ debe ser igual al grado de salida de $v$.**"
   ]
  },
  {
   "cell_type": "markdown",
   "metadata": {},
   "source": [
    "*$G$ tiene un circuito euleriano dirigido.*"
   ]
  },
  {
   "cell_type": "markdown",
   "metadata": {},
   "source": [
    "Entonces $G$ es conexo, porque tienes que pasar por todas las arístas al menos una vez."
   ]
  },
  {
   "cell_type": "markdown",
   "metadata": {},
   "source": [
    "Cada vez que entramos a un vértice, también debemos salir de él para continuar el circuito. Entonces, para cada vértice, el número de veces que el circuito entra en $v$, que es su grado de entrada, debe ser igual al número de veces que sale de $v$, que es su grado de salida."
   ]
  },
  {
   "cell_type": "markdown",
   "metadata": {},
   "source": [
    "‎ "
   ]
  },
  {
   "cell_type": "markdown",
   "metadata": {},
   "source": [
    "##### **Si $G$ es conexo y cada vértice tiene igual grado de entrada y de salida, entonces $G$ tiene un circuito euleriano dirigido.**"
   ]
  },
  {
   "cell_type": "markdown",
   "metadata": {},
   "source": [
    "*$G$ es conexo*\n",
    "\n",
    "*$od(v) = id(v)$ para cada $v \\in V$.*"
   ]
  },
  {
   "cell_type": "markdown",
   "metadata": {},
   "source": [
    "***P.D: $G$ tiene un circuito euleriano dirigido.***\n"
   ]
  },
  {
   "cell_type": "markdown",
   "metadata": {},
   "source": [
    "Elejimos cualquier vértice $v_0$ en $G$ como punto de inicio para crear nuestro circuito."
   ]
  },
  {
   "cell_type": "markdown",
   "metadata": {},
   "source": [
    "Sea $C$ el circuito más largo:\n",
    "\n",
    "$$\n",
    "v_0 \\to v_2 \\to \\dots \\to v_m \\to v_0\n",
    "$$"
   ]
  },
  {
   "cell_type": "markdown",
   "metadata": {},
   "source": [
    "Si todas las aristas de $G$ han sido visitadas, $v_m = v_n$, entonces encontramos el circuito euleriano de $G$."
   ]
  },
  {
   "cell_type": "markdown",
   "metadata": {},
   "source": [
    "*Si aún quedan aristas no visitadas:*\n"
   ]
  },
  {
   "cell_type": "markdown",
   "metadata": {},
   "source": [
    "Encontramos un vértice $w$ en $C$ que tiene aristas de salida que no están en $C$. Comenzando desde $w$, formamos un nuevo circuito $C'$ con las aristas no visitadas y agregamos $C'$ a $C$, reemplazando a $w$ en $C$ con el nuevo camino $C'$, formando un circuito más largo que tiene más aristas. Porque si hay aristas no visitadas, siempre podemos encontrar un vértice en $C$ con una arista de salida no visitada porque cada vértice tiene el mismo número de aristas que entran y salen."
   ]
  },
  {
   "cell_type": "markdown",
   "metadata": {},
   "source": [
    "Repitos el algoritmo de encontrar nuevos circuitos y agregarlos a $C$ hasta que todas las aristas en $G$ hayan sido visitadas."
   ]
  },
  {
   "cell_type": "markdown",
   "metadata": {},
   "source": [
    "Como $G$ es finito y recorremos cada arista una vez, el algoritmo debe terminar con un circuito euleriano."
   ]
  },
  {
   "cell_type": "markdown",
   "metadata": {},
   "source": [
    "‎ "
   ]
  },
  {
   "cell_type": "markdown",
   "metadata": {},
   "source": [
    "‎ "
   ]
  },
  {
   "cell_type": "markdown",
   "metadata": {},
   "source": [
    "‎ "
   ]
  },
  {
   "cell_type": "markdown",
   "metadata": {},
   "source": [
    "##### **Si $G$ es conexo y cada vértice tiene igual grado de entrada y de salida, entonces $G$ tiene un circuito euleriano dirigido 2.0**"
   ]
  },
  {
   "cell_type": "markdown",
   "metadata": {},
   "source": [
    "*$G = (V, E)$ es conexo*\n",
    "\n",
    "*Para cada vértice $v \\in V$, el grado de salida $od(v)$ es igual al grado de entrada $id(v)$*"
   ]
  },
  {
   "cell_type": "markdown",
   "metadata": {},
   "source": [
    "***P.D: $G$ tiene un circuito euleriano dirigido.***\n"
   ]
  },
  {
   "cell_type": "markdown",
   "metadata": {},
   "source": [
    "Existe un camino dirigido entre cualquier par de vértices en el grafo.\n",
    "\n",
    "Para cada vértice $v$, el número de aristas que entran ($id(v)$) es igual al número de aristas que salen ($od(v)$). Entonces podemos salir de un vértice cada vez que entramos en él, nunca nos vamos a quedar atorados en un vértice."
   ]
  },
  {
   "cell_type": "markdown",
   "metadata": {},
   "source": [
    "Iniciamos un recorrido desde $v_0$:\n",
    "\n",
    "En cada paso, elegimos una arista de salida de $v_0$ que aún no haya sido visitada y continuamos hasta regresar a $v_0$, completando un circuito cerrado $C$."
   ]
  },
  {
   "cell_type": "markdown",
   "metadata": {},
   "source": [
    "Sea $C$ el circuito más largo:\n",
    "\n",
    "$$\n",
    "v_0 \\to v_2 \\to \\dots \\to v_m \\to v_0\n",
    "$$"
   ]
  },
  {
   "cell_type": "markdown",
   "metadata": {},
   "source": [
    "Si todas las aristas de $G$ han sido visitadas, $v_m = v_n$, entonces encontramos el circuito euleriano de $G$."
   ]
  },
  {
   "cell_type": "markdown",
   "metadata": {},
   "source": [
    "*Si quedan aristas no visitadas*"
   ]
  },
  {
   "cell_type": "markdown",
   "metadata": {},
   "source": [
    "Identificamos un vértice $w$ dentro de $C$ que tenga aristas de salida no utilizadas e iniciamos un nuevo circuito cerrado $C'$ que recorre solo las aristas no visitadas. Combinamos $C$ y $C'$ y sustituimos el vértice $w$ en $C$ con el nuevo camino $C'$, formando un circuito más largo que incluye más aristas de $G$."
   ]
  },
  {
   "cell_type": "markdown",
   "metadata": {},
   "source": [
    "Continuamos este proceso, cada vez que encontramos aristas no visitadas, identificamos un vértice en el circuito actual con aristas de salida no utilizadas. Creamos un nuevo circuito y lo incorporamos al anterior. Como $G$ es finito, este algoritmo debe terminar después de un número finito de pasos."
   ]
  },
  {
   "cell_type": "markdown",
   "metadata": {},
   "source": [
    "‎ "
   ]
  },
  {
   "cell_type": "markdown",
   "metadata": {},
   "source": [
    "**Base de inducción: $|E| = 1$**\n",
    "\n",
    "Como requerimos que $od(v) = id(v)$ para todo $v$, el único caso posible es un bucle en un único vértice:\n",
    "$od(v) = id(v) = 1$."
   ]
  },
  {
   "cell_type": "markdown",
   "metadata": {},
   "source": [
    "**Hipótesis de inducción**\n",
    "\n",
    "Supongamos que es cierto para todos los grafos dirigidos con $k$ aristas, $k \\geq 1$.\n",
    "\n",
    "Si un grafo $G$ es conexo y $od(v) = id(v)$ para cada $v$, entonces $G$ tiene un circuito Euleriano dirigido."
   ]
  },
  {
   "cell_type": "markdown",
   "metadata": {},
   "source": [
    "**Paso inductivo**\n",
    "\n",
    "Elegimos a $v_0$ y formamos un circuito cerrado $C$, supongamos que utiliza solo un subconjunto de las aristas."
   ]
  },
  {
   "cell_type": "markdown",
   "metadata": {},
   "source": [
    "Eliminamos del grafo $G$ todas las aristas de $C$, obteniendo un subgrafo $G'$.\n",
    "\n",
    "$G'$ puede no ser conexo, pero todas las componentes conexas cumplen $od(v) = id(v)$."
   ]
  },
  {
   "cell_type": "markdown",
   "metadata": {},
   "source": [
    "Cada componente conexa de $G'$ tiene a lo más $k$ aristas y, por la hipótesis de inducción, cada componente conexa de $G'$ tiene un circuito Euleriano dirigido."
   ]
  },
  {
   "cell_type": "markdown",
   "metadata": {},
   "source": [
    "‎ "
   ]
  },
  {
   "cell_type": "markdown",
   "metadata": {},
   "source": [
    "Juntamos los circuitos Eulerianos de $G'$ al circuito $C$, para cada vértice del circuito $C$ que pertenece a una componente de $G'$, enlazamos el circuito correspondiente."
   ]
  }
 ],
 "metadata": {
  "language_info": {
   "name": "python"
  }
 },
 "nbformat": 4,
 "nbformat_minor": 2
}
