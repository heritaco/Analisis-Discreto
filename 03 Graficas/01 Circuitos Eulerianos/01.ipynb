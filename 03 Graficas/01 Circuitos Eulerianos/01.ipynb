{
 "cells": [
  {
   "cell_type": "markdown",
   "metadata": {},
   "source": [
    "# **Teorema**"
   ]
  },
  {
   "cell_type": "markdown",
   "metadata": {},
   "source": [
    "**Nombre:** Heriberto Espino Montelongo\n",
    "\n",
    "**Materia:** Análisis Discreto\n",
    "\n",
    "**Clave:** O24-LDS1011-1\n",
    "\n",
    "**Fecha:** 21 de noviembre de 2024"
   ]
  },
  {
   "cell_type": "markdown",
   "metadata": {},
   "source": [
    "‎ "
   ]
  },
  {
   "cell_type": "markdown",
   "metadata": {},
   "source": [
    "*Sea $G$ una gráfica o multigráfica no dirigida sin vértices aislados. Demuestre que existe un paseo Euleriano en $G$ si y sólo si $G$ es conexa y tiene exactamente dos vértices de grado impar.*"
   ]
  },
  {
   "cell_type": "markdown",
   "metadata": {},
   "source": [
    "‎ "
   ]
  },
  {
   "cell_type": "markdown",
   "metadata": {},
   "source": [
    "##### **Si $G$ tiene un paseo Euleriano, entonces $G$ es conexa y tiene exactamente dos vértices de grado impar.**"
   ]
  },
  {
   "cell_type": "markdown",
   "metadata": {},
   "source": [
    "*Suponemos que $G$ tiene un camino Euleriano.*"
   ]
  },
  {
   "cell_type": "markdown",
   "metadata": {},
   "source": [
    "Si $G$ tiene un paseo Euleriano, $G$ es conexa."
   ]
  },
  {
   "cell_type": "markdown",
   "metadata": {},
   "source": [
    "En un paseo Euleriano, cada vez que llegamos a un vértice, entramos por una arista y salimos por otra. Entonceos, salvo el inicio y el final del paseo, cada vértice debe tener un grado par, para poder entrar y salir.\n",
    "\n",
    "Si $G$ tiene un paseo Euleriano que comienza en $v_1$ y termina en $v_n$, entonces $v_1$ y $v_n$ son los únicos vértices de grado impar."
   ]
  },
  {
   "cell_type": "markdown",
   "metadata": {},
   "source": [
    "‎ "
   ]
  },
  {
   "cell_type": "markdown",
   "metadata": {},
   "source": [
    "##### **Si $G$ es conexa y tiene exactamente dos vértices de grado impar, entonces $G$ tiene un paseo Euleriano.**"
   ]
  },
  {
   "cell_type": "markdown",
   "metadata": {},
   "source": [
    "*Sean $v_1$ y $v_n$ los dos vértices de grado impar.*"
   ]
  },
  {
   "cell_type": "markdown",
   "metadata": {},
   "source": [
    "Cada que pasamos por un vértice se reduce en 2 su grado. "
   ]
  },
  {
   "cell_type": "markdown",
   "metadata": {},
   "source": [
    "Como $G$ es conexa, siempre es posible llegar de $v_1$ a $v_n$."
   ]
  },
  {
   "cell_type": "markdown",
   "metadata": {},
   "source": [
    "Comenzamos un paseo en $v_1$ y hacemos más grande en $G$."
   ]
  },
  {
   "cell_type": "markdown",
   "metadata": {},
   "source": [
    "Pasamos las veces que sea necesario por $v_n$ hasta que tenga $deg(v_n)=1$, una arista disponible. Aquí se ve que tiene que ser el último vértice del paseo, porque va a ser el único que no tiene una *entrada* y *salida* sino que solo tiene una *entrada*, de la misma forma que $v_i$ va a ser el único que tiene solo una *salida*."
   ]
  }
 ],
 "metadata": {
  "language_info": {
   "name": "python"
  }
 },
 "nbformat": 4,
 "nbformat_minor": 2
}
